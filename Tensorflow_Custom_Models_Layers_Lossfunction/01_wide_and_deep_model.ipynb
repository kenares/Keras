{
 "cells": [
  {
   "cell_type": "markdown",
   "metadata": {},
   "source": [
    "## Coding a Wide and Deep Model"
   ]
  },
  {
   "cell_type": "code",
   "execution_count": 29,
   "metadata": {},
   "outputs": [],
   "source": [
    "import tensorflow as tf\n",
    "from tensorflow.keras.models import Model\n",
    "from tensorflow.keras.layers import Input, Dense, concatenate, Layer, Conv2D\n",
    "from tensorflow.keras.utils import plot_model\n",
    "import tensorflow_datasets as tfds"
   ]
  },
  {
   "cell_type": "code",
   "execution_count": 2,
   "metadata": {},
   "outputs": [
    {
     "data": {
      "image/png": "[encoded data removed]",
      "text/plain": [
       "<IPython.core.display.Image object>"
      ]
     },
     "execution_count": 2,
     "metadata": {},
     "output_type": "execute_result"
    }
   ],
   "source": [
    "# Definig inputs\n",
    "input_a = Input(shape=[1], name='Wide_input')\n",
    "input_b = Input(shape=[1], name='Deep_input')\n",
    "\n",
    "# Define the deep path\n",
    "hidden_1 = Dense(units=30, activation='relu')(input_b)\n",
    "hidden_2 = Dense(units=30, activation='relu')(hidden_1)\n",
    "\n",
    "# Define the merge path\n",
    "concat = concatenate([input_a, hidden_2])\n",
    "output = Dense(1, name='Output')(concat)\n",
    "\n",
    "# Define another output for the deep path\n",
    "aux_output = Dense(1, name='aux_Output')(hidden_2)\n",
    "\n",
    "# Build the model\n",
    "model = Model(inputs=[input_a, input_b], outputs=[output, aux_output])\n",
    "\n",
    "# Visualize the architecture\n",
    "plot_model(model)"
   ]
  },
  {
   "cell_type": "markdown",
   "metadata": {},
   "source": [
    "#### Implement as a Class\n",
    "\n",
    "Inheriting from the existing Model class lets you use the Model methods such as **compile(), fit(), evaluate()**.\n",
    "\n",
    "When inheriting from Model, you will want to define at least two functions:\n",
    "\n",
    " * __init__(): you will initialize the instance attributes.\n",
    " * **call()**: you will build the network and return the output layers.\n",
    " \n",
    "If you compare the two methods, the structure is very similar, except when using the class, you'll define all the layers in one function, init, and connect the layers together in another function, call."
   ]
  },
  {
   "cell_type": "code",
   "execution_count": 3,
   "metadata": {},
   "outputs": [],
   "source": [
    "# Inherit from the model base class\n",
    "class WideAndDeepModel(Model):\n",
    "    def __init__(self, units=30, activation='relu', **kargs):\n",
    "        '''Initializes the instance attributes'''\n",
    "        super().__init__(**kargs)\n",
    "        self.hidden_1 = Dense(units, activation=activation)\n",
    "        self.hidden_2 = Dense(units, activation=activation)\n",
    "        self.main_output = Dense(1)\n",
    "        self.aux_output = Dense(1)\n",
    "        \n",
    "    def call(self, inputs):\n",
    "        input_A, input_B = inputs\n",
    "        hidden_1 = self.hidden_1(input_B)\n",
    "        hidden_2 = self.hidden_2(hidden_1)\n",
    "        concat = concatenate([input_A, hidden_2])\n",
    "        main_output = self.main_output(concat)\n",
    "        aux_output = self.aux_output(hidden_2)\n",
    "        \n",
    "        return main_output, aux_output"
   ]
  },
  {
   "cell_type": "code",
   "execution_count": 5,
   "metadata": {},
   "outputs": [],
   "source": [
    "model = WideAndDeepModel()"
   ]
  },
  {
   "cell_type": "markdown",
   "metadata": {},
   "source": [
    "### Residual Networks"
   ]
  },
  {
   "cell_type": "code",
   "execution_count": 11,
   "metadata": {},
   "outputs": [],
   "source": [
    "class CNNResidual(Layer):\n",
    "    def __init__(self, layers, filters, **kargs):\n",
    "        super().__init__(**kargs)\n",
    "        self.hidden = [Conv2D(filters, (3, 3), activations='relu') for _ in range(layers)]\n",
    "        \n",
    "    def call(slef, inputs):\n",
    "        x = inputs\n",
    "        for layer in self.hidden:\n",
    "            x = layer(x)\n",
    "        return inputs + x"
   ]
  },
  {
   "cell_type": "code",
   "execution_count": 12,
   "metadata": {},
   "outputs": [],
   "source": [
    "class DNNResidual(Layer):\n",
    "    def __init__(self, layers, neurons, **kargs):\n",
    "        super().__init__(**kargs)\n",
    "        self.hidden = [Dense(units=neurons, activation='relu') for _ in range(layers)]\n",
    "        \n",
    "    def call(self, inputs):\n",
    "        x = inputs\n",
    "        for layer in self.hidden:\n",
    "            x = layer(x)\n",
    "        return inputs + x"
   ]
  },
  {
   "cell_type": "code",
   "execution_count": 13,
   "metadata": {},
   "outputs": [],
   "source": [
    "class Residual(Model):\n",
    "    def __init__(self, **kargs):\n",
    "        super().__init__(**kargs)\n",
    "        self.hidden = Dense(30, activation='relu')\n",
    "        self.block1 = CNNResidual(2, 32)\n",
    "        self.block2 = DNNResidual(2, 64)\n",
    "        self.out = Dense(1)\n",
    "        \n",
    "    def call(self, inputs):\n",
    "        x = self.hidden(inputs)\n",
    "        x = self.block1(x)\n",
    "        \n",
    "        for _ in range(1, 3):\n",
    "            x = self.block2(x)\n",
    "            \n",
    "        return self.out(x)"
   ]
  },
  {
   "cell_type": "markdown",
   "metadata": {},
   "source": [
    "### ResNet"
   ]
  },
  {
   "cell_type": "code",
   "execution_count": 22,
   "metadata": {},
   "outputs": [],
   "source": [
    "class IdentityBlock(Model):\n",
    "    def __init__(self, filters, kernel_size):\n",
    "        super(IdentityBlock, self).__init__(name='')\n",
    "        self.conv1 = Conv2D(filters, kernel_size, padding='same')\n",
    "        self.bn1 = tf.keras.layers.BatchNormalization()\n",
    "        \n",
    "        self.conv2 = Conv2D(filters, kernel_size, padding='same')\n",
    "        self.bn2 = tf.keras.layers.BatchNormalization()\n",
    "        \n",
    "        self.act = tf.keras.layers.Activation('relu')\n",
    "        self.add = tf.keras.layers.Add()\n",
    "        \n",
    "    def call(self, input_tensor):\n",
    "        x = self.conv1(input_tensor)\n",
    "        x = self.bn1(x)\n",
    "        x = self.act(x)\n",
    "        \n",
    "        x = self.conv2(x)\n",
    "        x = self.bn2(x)\n",
    "        x = self.act(x)\n",
    "        \n",
    "        x = self.add([x, input_tensor])\n",
    "        x = self.act(x)\n",
    "        \n",
    "        return x"
   ]
  },
  {
   "cell_type": "code",
   "execution_count": 25,
   "metadata": {},
   "outputs": [],
   "source": [
    "class ResNet(Model):\n",
    "    def __init__(self, num_class):\n",
    "        super(ResNet, self).__init__()\n",
    "        self.conv = Conv2D(64, 7, padding='same')\n",
    "        self.bn = tf.keras.layers.BatchNormalization()\n",
    "        self.act = tf.keras.layers.Activation('relu')\n",
    "        self.max_pool = tf.keras.layers.MaxPool2D((3, 3))\n",
    "        \n",
    "        self.ida = IdentityBlock(64, 3)\n",
    "        self.idb = IdentityBlock(64, 3)\n",
    "        \n",
    "        self.global_pool = tf.keras.layers.GlobalAveragePooling2D()\n",
    "        self.classifier = Dense(num_class, activation='softmax')\n",
    "        \n",
    "    def call(self, inputs):\n",
    "        x = self.conv(inputs)\n",
    "        x = self.bn(x)\n",
    "        x = self.act(x)\n",
    "        x = self.max_pool(x)\n",
    "        \n",
    "        x = self.ida(x)\n",
    "        x = self.idb(x)\n",
    "        \n",
    "        x = self.global_pool(x)\n",
    "        \n",
    "        return self.classifier(x)\n",
    "        "
   ]
  },
  {
   "cell_type": "code",
   "execution_count": 31,
   "metadata": {},
   "outputs": [],
   "source": [
    "def preprocess(features):\n",
    "    return tf.cast(features['image'], tf.float32) / 255.0, features['label']"
   ]
  },
  {
   "cell_type": "code",
   "execution_count": 32,
   "metadata": {},
   "outputs": [
    {
     "name": "stdout",
     "output_type": "stream",
     "text": [
      "1875/1875 [==============================] - 171s 91ms/step - loss: 0.3235 - accuracy: 0.9204\n"
     ]
    },
    {
     "data": {
      "text/plain": [
       "<tensorflow.python.keras.callbacks.History at 0x7f72509698e0>"
      ]
     },
     "execution_count": 32,
     "metadata": {},
     "output_type": "execute_result"
    }
   ],
   "source": [
    "resnet = ResNet(10)\n",
    "resnet.compile(optimizer='adam', \n",
    "              loss='sparse_categorical_crossentropy',\n",
    "              metrics=['accuracy'])\n",
    "\n",
    "dataset = tfds.load('mnist', split=tfds.Split.TRAIN)\n",
    "dataset = dataset.map(preprocess).batch(32)\n",
    "\n",
    "resnet.fit(dataset, epochs=1)"
   ]
  }
 ],
 "metadata": {
  "kernelspec": {
   "display_name": "technical-test",
   "language": "python",
   "name": "technical-test"
  },
  "language_info": {
   "codemirror_mode": {
    "name": "ipython",
    "version": 3
   },
   "file_extension": ".py",
   "mimetype": "text/x-python",
   "name": "python",
   "nbconvert_exporter": "python",
   "pygments_lexer": "ipython3",
   "version": "3.8.5"
  }
 },
 "nbformat": 4,
 "nbformat_minor": 4
}
