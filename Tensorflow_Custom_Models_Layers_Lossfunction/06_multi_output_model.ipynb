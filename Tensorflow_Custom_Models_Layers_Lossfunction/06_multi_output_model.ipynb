{
 "cells": [
  {
   "cell_type": "markdown",
   "metadata": {},
   "source": [
    "#### Multi output Model using the Keras Functional API\n",
    "\n",
    "The goal of this notebook is to train a model to predict two outputs using the [Wine Quality Dataset](https://archive.ics.uci.edu/ml/datasets/Wine+Quality) from **UCI** which had separate datasets for *red wine* and *white wine*.\n",
    "\n",
    "We will combine the two datasets to predict the **wine quality** and whether the wine is **red** or **white** solely from the attributes.\n",
    "\n",
    "We will model wine quality estimations as a **regression** problem and wine type detection as a **binary classification** problem."
   ]
  },
  {
   "cell_type": "code",
   "execution_count": 1,
   "metadata": {},
   "outputs": [],
   "source": [
    "import tensorflow as tf\n",
    "from tensorflow.keras.models import Model\n",
    "from tensorflow.keras.layers import Input, Dense\n",
    "\n",
    "import numpy as np, pandas as pd\n",
    "import matplotlib.pyplot as plt\n",
    "\n",
    "from sklearn.model_selection import train_test_split\n",
    "from sklearn.metrics import confusion_matrix\n",
    "\n",
    "import itertools \n",
    "import utils # contains unit tests."
   ]
  },
  {
   "cell_type": "markdown",
   "metadata": {},
   "source": [
    "#### Load the Dataset"
   ]
  },
  {
   "cell_type": "code",
   "execution_count": 2,
   "metadata": {},
   "outputs": [],
   "source": [
    "URL_WHITE = 'http://archive.ics.uci.edu/ml/machine-learning-databases/wine-quality/winequality-white.csv'\n",
    "URL_RED = 'http://archive.ics.uci.edu/ml/machine-learning-databases/wine-quality/winequality-red.csv'\n",
    "\n",
    "white_df = pd.read_csv(URL_WHITE, sep=';')\n",
    "white_df['is_red'] = 0\n",
    "white_df = white_df.drop_duplicates(keep='first')\n",
    "\n",
    "red_df = pd.read_csv(URL_RED, sep=';')\n",
    "red_df['is_red'] = 1\n",
    "red_df = red_df.drop_duplicates(keep='first')\n",
    "\n",
    "# Concatenate the datasets\n",
    "df = pd.concat([white_df, red_df], ignore_index=True)\n",
    "\n",
    "# Shuffle dataset. Normaly we should shuffle the dataset bt we will want later to to test with\n",
    "# deterministic data\n",
    "# df = df.iloc[np.random.permutation(len(df))]"
   ]
  },
  {
   "cell_type": "code",
   "execution_count": 3,
   "metadata": {},
   "outputs": [
    {
     "data": {
      "text/plain": [
       "<matplotlib.axes._subplots.AxesSubplot at 0x7f1721354b80>"
      ]
     },
     "execution_count": 3,
     "metadata": {},
     "output_type": "execute_result"
    },
    {
     "data": {
      "image/png": "[encoded data removed]",
      "text/plain": [
       "<Figure size 432x288 with 1 Axes>"
      ]
     },
     "metadata": {
      "needs_background": "light"
     },
     "output_type": "display_data"
    }
   ],
   "source": [
    "df['quality'].hist(bins=20)"
   ]
  },
  {
   "cell_type": "markdown",
   "metadata": {},
   "source": [
    "#### Imbalanced"
   ]
  },
  {
   "cell_type": "code",
   "execution_count": 4,
   "metadata": {},
   "outputs": [],
   "source": [
    "df = df[(df['quality'] > 4) & (df['quality'] < 8)]\n",
    "df = df.reset_index(drop=True)"
   ]
  },
  {
   "cell_type": "code",
   "execution_count": 5,
   "metadata": {},
   "outputs": [
    {
     "data": {
      "text/plain": [
       "<matplotlib.axes._subplots.AxesSubplot at 0x7f17212c61c0>"
      ]
     },
     "execution_count": 5,
     "metadata": {},
     "output_type": "execute_result"
    },
    {
     "data": {
      "image/png": "[encoded data removed]",
      "text/plain": [
       "<Figure size 432x288 with 1 Axes>"
      ]
     },
     "metadata": {
      "needs_background": "light"
     },
     "output_type": "display_data"
    }
   ],
   "source": [
    "df['quality'].hist(bins=20)"
   ]
  },
  {
   "cell_type": "markdown",
   "metadata": {},
   "source": [
    "#### Train Test split"
   ]
  },
  {
   "cell_type": "code",
   "execution_count": 6,
   "metadata": {},
   "outputs": [
    {
     "data": {
      "text/html": [
       "<div>\n",
       "<style scoped>\n",
       "    .dataframe tbody tr th:only-of-type {\n",
       "        vertical-align: middle;\n",
       "    }\n",
       "\n",
       "    .dataframe tbody tr th {\n",
       "        vertical-align: top;\n",
       "    }\n",
       "\n",
       "    .dataframe thead th {\n",
       "        text-align: right;\n",
       "    }\n",
       "</style>\n",
       "<table border=\"1\" class=\"dataframe\">\n",
       "  <thead>\n",
       "    <tr style=\"text-align: right;\">\n",
       "      <th></th>\n",
       "      <th>count</th>\n",
       "      <th>mean</th>\n",
       "      <th>std</th>\n",
       "      <th>min</th>\n",
       "      <th>25%</th>\n",
       "      <th>50%</th>\n",
       "      <th>75%</th>\n",
       "      <th>max</th>\n",
       "    </tr>\n",
       "  </thead>\n",
       "  <tbody>\n",
       "    <tr>\n",
       "      <th>fixed acidity</th>\n",
       "      <td>3155.0</td>\n",
       "      <td>7.218558</td>\n",
       "      <td>1.298609</td>\n",
       "      <td>3.80000</td>\n",
       "      <td>6.4000</td>\n",
       "      <td>7.0000</td>\n",
       "      <td>7.7000</td>\n",
       "      <td>15.60000</td>\n",
       "    </tr>\n",
       "    <tr>\n",
       "      <th>volatile acidity</th>\n",
       "      <td>3155.0</td>\n",
       "      <td>0.339976</td>\n",
       "      <td>0.164326</td>\n",
       "      <td>0.08000</td>\n",
       "      <td>0.2300</td>\n",
       "      <td>0.2900</td>\n",
       "      <td>0.4100</td>\n",
       "      <td>1.33000</td>\n",
       "    </tr>\n",
       "    <tr>\n",
       "      <th>citric acid</th>\n",
       "      <td>3155.0</td>\n",
       "      <td>0.321062</td>\n",
       "      <td>0.148083</td>\n",
       "      <td>0.00000</td>\n",
       "      <td>0.2500</td>\n",
       "      <td>0.3100</td>\n",
       "      <td>0.4000</td>\n",
       "      <td>1.66000</td>\n",
       "    </tr>\n",
       "    <tr>\n",
       "      <th>residual sugar</th>\n",
       "      <td>3155.0</td>\n",
       "      <td>5.128241</td>\n",
       "      <td>4.570110</td>\n",
       "      <td>0.60000</td>\n",
       "      <td>1.8000</td>\n",
       "      <td>2.8000</td>\n",
       "      <td>7.7000</td>\n",
       "      <td>65.80000</td>\n",
       "    </tr>\n",
       "    <tr>\n",
       "      <th>chlorides</th>\n",
       "      <td>3155.0</td>\n",
       "      <td>0.056971</td>\n",
       "      <td>0.037610</td>\n",
       "      <td>0.01400</td>\n",
       "      <td>0.0380</td>\n",
       "      <td>0.0470</td>\n",
       "      <td>0.0670</td>\n",
       "      <td>0.61100</td>\n",
       "    </tr>\n",
       "    <tr>\n",
       "      <th>free sulfur dioxide</th>\n",
       "      <td>3155.0</td>\n",
       "      <td>30.413946</td>\n",
       "      <td>17.179817</td>\n",
       "      <td>1.00000</td>\n",
       "      <td>17.0000</td>\n",
       "      <td>29.0000</td>\n",
       "      <td>41.0000</td>\n",
       "      <td>128.00000</td>\n",
       "    </tr>\n",
       "    <tr>\n",
       "      <th>total sulfur dioxide</th>\n",
       "      <td>3155.0</td>\n",
       "      <td>114.707132</td>\n",
       "      <td>56.189167</td>\n",
       "      <td>6.00000</td>\n",
       "      <td>75.0000</td>\n",
       "      <td>117.0000</td>\n",
       "      <td>153.0000</td>\n",
       "      <td>344.00000</td>\n",
       "    </tr>\n",
       "    <tr>\n",
       "      <th>density</th>\n",
       "      <td>3155.0</td>\n",
       "      <td>0.994580</td>\n",
       "      <td>0.002988</td>\n",
       "      <td>0.98722</td>\n",
       "      <td>0.9922</td>\n",
       "      <td>0.9948</td>\n",
       "      <td>0.9968</td>\n",
       "      <td>1.03898</td>\n",
       "    </tr>\n",
       "    <tr>\n",
       "      <th>pH</th>\n",
       "      <td>3155.0</td>\n",
       "      <td>3.221300</td>\n",
       "      <td>0.158116</td>\n",
       "      <td>2.72000</td>\n",
       "      <td>3.1100</td>\n",
       "      <td>3.2100</td>\n",
       "      <td>3.3200</td>\n",
       "      <td>3.90000</td>\n",
       "    </tr>\n",
       "    <tr>\n",
       "      <th>sulphates</th>\n",
       "      <td>3155.0</td>\n",
       "      <td>0.536662</td>\n",
       "      <td>0.150296</td>\n",
       "      <td>0.22000</td>\n",
       "      <td>0.4400</td>\n",
       "      <td>0.5100</td>\n",
       "      <td>0.6000</td>\n",
       "      <td>1.98000</td>\n",
       "    </tr>\n",
       "    <tr>\n",
       "      <th>alcohol</th>\n",
       "      <td>3155.0</td>\n",
       "      <td>10.536750</td>\n",
       "      <td>1.173571</td>\n",
       "      <td>8.00000</td>\n",
       "      <td>9.5000</td>\n",
       "      <td>10.4000</td>\n",
       "      <td>11.3000</td>\n",
       "      <td>14.20000</td>\n",
       "    </tr>\n",
       "  </tbody>\n",
       "</table>\n",
       "</div>"
      ],
      "text/plain": [
       "                       count        mean        std      min      25%  \\\n",
       "fixed acidity         3155.0    7.218558   1.298609  3.80000   6.4000   \n",
       "volatile acidity      3155.0    0.339976   0.164326  0.08000   0.2300   \n",
       "citric acid           3155.0    0.321062   0.148083  0.00000   0.2500   \n",
       "residual sugar        3155.0    5.128241   4.570110  0.60000   1.8000   \n",
       "chlorides             3155.0    0.056971   0.037610  0.01400   0.0380   \n",
       "free sulfur dioxide   3155.0   30.413946  17.179817  1.00000  17.0000   \n",
       "total sulfur dioxide  3155.0  114.707132  56.189167  6.00000  75.0000   \n",
       "density               3155.0    0.994580   0.002988  0.98722   0.9922   \n",
       "pH                    3155.0    3.221300   0.158116  2.72000   3.1100   \n",
       "sulphates             3155.0    0.536662   0.150296  0.22000   0.4400   \n",
       "alcohol               3155.0   10.536750   1.173571  8.00000   9.5000   \n",
       "\n",
       "                           50%       75%        max  \n",
       "fixed acidity           7.0000    7.7000   15.60000  \n",
       "volatile acidity        0.2900    0.4100    1.33000  \n",
       "citric acid             0.3100    0.4000    1.66000  \n",
       "residual sugar          2.8000    7.7000   65.80000  \n",
       "chlorides               0.0470    0.0670    0.61100  \n",
       "free sulfur dioxide    29.0000   41.0000  128.00000  \n",
       "total sulfur dioxide  117.0000  153.0000  344.00000  \n",
       "density                 0.9948    0.9968    1.03898  \n",
       "pH                      3.2100    3.3200    3.90000  \n",
       "sulphates               0.5100    0.6000    1.98000  \n",
       "alcohol                10.4000   11.3000   14.20000  "
      ]
     },
     "execution_count": 6,
     "metadata": {},
     "output_type": "execute_result"
    }
   ],
   "source": [
    "train, test = train_test_split(df, test_size=0.2, random_state=1)\n",
    "train, val = train_test_split(train, test_size=0.2, random_state=1)\n",
    "\n",
    "train_stats = train.describe()\n",
    "train_stats.pop('is_red')\n",
    "train_stats.pop('quality')\n",
    "train_stats = train_stats.transpose()\n",
    "train_stats"
   ]
  },
  {
   "cell_type": "code",
   "execution_count": 7,
   "metadata": {},
   "outputs": [],
   "source": [
    "def format_output(data):\n",
    "    is_red = data.pop('is_red')\n",
    "    is_red = np.array(is_red)\n",
    "    quality = data.pop('quality')\n",
    "    quality = np.array(quality)\n",
    "    return (quality, is_red)"
   ]
  },
  {
   "cell_type": "code",
   "execution_count": 8,
   "metadata": {},
   "outputs": [
    {
     "data": {
      "text/html": [
       "<div>\n",
       "<style scoped>\n",
       "    .dataframe tbody tr th:only-of-type {\n",
       "        vertical-align: middle;\n",
       "    }\n",
       "\n",
       "    .dataframe tbody tr th {\n",
       "        vertical-align: top;\n",
       "    }\n",
       "\n",
       "    .dataframe thead th {\n",
       "        text-align: right;\n",
       "    }\n",
       "</style>\n",
       "<table border=\"1\" class=\"dataframe\">\n",
       "  <thead>\n",
       "    <tr style=\"text-align: right;\">\n",
       "      <th></th>\n",
       "      <th>fixed acidity</th>\n",
       "      <th>volatile acidity</th>\n",
       "      <th>citric acid</th>\n",
       "      <th>residual sugar</th>\n",
       "      <th>chlorides</th>\n",
       "      <th>free sulfur dioxide</th>\n",
       "      <th>total sulfur dioxide</th>\n",
       "      <th>density</th>\n",
       "      <th>pH</th>\n",
       "      <th>sulphates</th>\n",
       "      <th>alcohol</th>\n",
       "    </tr>\n",
       "  </thead>\n",
       "  <tbody>\n",
       "    <tr>\n",
       "      <th>225</th>\n",
       "      <td>7.2</td>\n",
       "      <td>0.19</td>\n",
       "      <td>0.46</td>\n",
       "      <td>3.8</td>\n",
       "      <td>0.041</td>\n",
       "      <td>82.0</td>\n",
       "      <td>187.0</td>\n",
       "      <td>0.99320</td>\n",
       "      <td>3.19</td>\n",
       "      <td>0.60</td>\n",
       "      <td>11.2</td>\n",
       "    </tr>\n",
       "    <tr>\n",
       "      <th>3557</th>\n",
       "      <td>6.9</td>\n",
       "      <td>0.25</td>\n",
       "      <td>0.29</td>\n",
       "      <td>2.4</td>\n",
       "      <td>0.038</td>\n",
       "      <td>28.0</td>\n",
       "      <td>76.0</td>\n",
       "      <td>0.99088</td>\n",
       "      <td>3.01</td>\n",
       "      <td>0.36</td>\n",
       "      <td>11.7</td>\n",
       "    </tr>\n",
       "    <tr>\n",
       "      <th>3825</th>\n",
       "      <td>11.0</td>\n",
       "      <td>0.30</td>\n",
       "      <td>0.58</td>\n",
       "      <td>2.1</td>\n",
       "      <td>0.054</td>\n",
       "      <td>7.0</td>\n",
       "      <td>19.0</td>\n",
       "      <td>0.99800</td>\n",
       "      <td>3.31</td>\n",
       "      <td>0.88</td>\n",
       "      <td>10.5</td>\n",
       "    </tr>\n",
       "    <tr>\n",
       "      <th>1740</th>\n",
       "      <td>7.0</td>\n",
       "      <td>0.36</td>\n",
       "      <td>0.30</td>\n",
       "      <td>5.0</td>\n",
       "      <td>0.040</td>\n",
       "      <td>40.0</td>\n",
       "      <td>143.0</td>\n",
       "      <td>0.99173</td>\n",
       "      <td>3.33</td>\n",
       "      <td>0.42</td>\n",
       "      <td>12.2</td>\n",
       "    </tr>\n",
       "    <tr>\n",
       "      <th>1221</th>\n",
       "      <td>5.8</td>\n",
       "      <td>0.19</td>\n",
       "      <td>0.49</td>\n",
       "      <td>4.9</td>\n",
       "      <td>0.040</td>\n",
       "      <td>44.0</td>\n",
       "      <td>118.0</td>\n",
       "      <td>0.99350</td>\n",
       "      <td>3.34</td>\n",
       "      <td>0.38</td>\n",
       "      <td>9.5</td>\n",
       "    </tr>\n",
       "  </tbody>\n",
       "</table>\n",
       "</div>"
      ],
      "text/plain": [
       "      fixed acidity  volatile acidity  citric acid  residual sugar  chlorides  \\\n",
       "225             7.2              0.19         0.46             3.8      0.041   \n",
       "3557            6.9              0.25         0.29             2.4      0.038   \n",
       "3825           11.0              0.30         0.58             2.1      0.054   \n",
       "1740            7.0              0.36         0.30             5.0      0.040   \n",
       "1221            5.8              0.19         0.49             4.9      0.040   \n",
       "\n",
       "      free sulfur dioxide  total sulfur dioxide  density    pH  sulphates  \\\n",
       "225                  82.0                 187.0  0.99320  3.19       0.60   \n",
       "3557                 28.0                  76.0  0.99088  3.01       0.36   \n",
       "3825                  7.0                  19.0  0.99800  3.31       0.88   \n",
       "1740                 40.0                 143.0  0.99173  3.33       0.42   \n",
       "1221                 44.0                 118.0  0.99350  3.34       0.38   \n",
       "\n",
       "      alcohol  \n",
       "225      11.2  \n",
       "3557     11.7  \n",
       "3825     10.5  \n",
       "1740     12.2  \n",
       "1221      9.5  "
      ]
     },
     "execution_count": 8,
     "metadata": {},
     "output_type": "execute_result"
    }
   ],
   "source": [
    "train_Y = format_output(train)\n",
    "val_Y = format_output(val)\n",
    "test_Y = format_output(test)\n",
    "train.head()"
   ]
  },
  {
   "cell_type": "code",
   "execution_count": 9,
   "metadata": {},
   "outputs": [],
   "source": [
    "def norm(x):\n",
    "    return (x - train_stats['mean']) / train_stats['std']"
   ]
  },
  {
   "cell_type": "code",
   "execution_count": 10,
   "metadata": {},
   "outputs": [],
   "source": [
    "norm_train_X = norm(train)\n",
    "norm_val_X = norm(val)\n",
    "norm_test_X = norm(test)"
   ]
  },
  {
   "cell_type": "markdown",
   "metadata": {},
   "source": [
    "#### Let's define the base model"
   ]
  },
  {
   "cell_type": "code",
   "execution_count": 11,
   "metadata": {},
   "outputs": [],
   "source": [
    "def base_model(inputs):\n",
    "    x = Dense(units='128', activation='relu')(inputs)\n",
    "    x = Dense(units='128', activation='relu')(x)\n",
    "    return x"
   ]
  },
  {
   "cell_type": "markdown",
   "metadata": {},
   "source": [
    "#### Let's define output layers of the model"
   ]
  },
  {
   "cell_type": "code",
   "execution_count": 12,
   "metadata": {},
   "outputs": [],
   "source": [
    "def final_model(inputs):\n",
    "    x = base_model(inputs)\n",
    "    \n",
    "    wine_quality = Dense(units='1', name='wine_quality')(x)\n",
    "    \n",
    "    wine_type = Dense(units='1', activation='sigmoid', name='wine_type')(x)\n",
    "    \n",
    "    model = Model(inputs=[inputs], outputs=[wine_quality, wine_type])\n",
    "    return model"
   ]
  },
  {
   "cell_type": "code",
   "execution_count": 13,
   "metadata": {},
   "outputs": [],
   "source": [
    "# METRICS = [\n",
    "#     tf.keras.metrics.TruePositives(name='tp'),\n",
    "#     tf.keras.metrics.FalsePositives(name='fp'),\n",
    "#     tf.keras.metrics.TrueNegatives(name='tn'),\n",
    "#     tf.keras.metrics.FalseNegatives(name='fn'),\n",
    "#     tf.keras.metrics.BinaryAccuracy(name='accuracy'),\n",
    "#     tf.keras.metrics.Precision(name='precision'),\n",
    "#     tf.keras.metrics.Recall(name='recall'),\n",
    "#     tf.keras.metrics.AUC(name='auc'),\n",
    "# ]"
   ]
  },
  {
   "cell_type": "markdown",
   "metadata": {},
   "source": [
    "#### Compiling the Model"
   ]
  },
  {
   "cell_type": "code",
   "execution_count": 14,
   "metadata": {},
   "outputs": [],
   "source": [
    "inputs = Input(shape=(len(norm_train_X.columns),))\n",
    "rms = tf.keras.optimizers.RMSprop(lr=0.0001)\n",
    "model = final_model(inputs)\n",
    "\n",
    "model.compile(optimizer=rms,\n",
    "             loss = {'wine_type' : 'binary_crossentropy',\n",
    "                   'wine_quality' : 'mean_squared_error'\n",
    "                  },\n",
    "              \n",
    "             metrics = {'wine_type' : 'accuracy', #METRICS\n",
    "                      'wine_quality' : tf.keras.metrics.RootMeanSquaredError()\n",
    "                     }\n",
    "             )"
   ]
  },
  {
   "cell_type": "code",
   "execution_count": 15,
   "metadata": {},
   "outputs": [
    {
     "name": "stdout",
     "output_type": "stream",
     "text": [
      "Epoch 1/180\n",
      "99/99 [==============================] - 2s 8ms/step - loss: 31.8550 - wine_quality_loss: 31.1308 - wine_type_loss: 0.7241 - wine_quality_root_mean_squared_error: 5.5731 - wine_type_accuracy: 0.3976 - val_loss: 19.8908 - val_wine_quality_loss: 19.2006 - val_wine_type_loss: 0.6902 - val_wine_quality_root_mean_squared_error: 4.3819 - val_wine_type_accuracy: 0.5564\n",
      "Epoch 2/180\n",
      "99/99 [==============================] - 0s 2ms/step - loss: 16.8016 - wine_quality_loss: 16.1265 - wine_type_loss: 0.6751 - wine_quality_root_mean_squared_error: 4.0087 - wine_type_accuracy: 0.6128 - val_loss: 8.4073 - val_wine_quality_loss: 7.7669 - val_wine_type_loss: 0.6404 - val_wine_quality_root_mean_squared_error: 2.7869 - val_wine_type_accuracy: 0.6984\n",
      "Epoch 3/180\n",
      "99/99 [==============================] - 0s 2ms/step - loss: 6.9630 - wine_quality_loss: 6.3487 - wine_type_loss: 0.6143 - wine_quality_root_mean_squared_error: 2.5122 - wine_type_accuracy: 0.7645 - val_loss: 3.3560 - val_wine_quality_loss: 2.7962 - val_wine_type_loss: 0.5598 - val_wine_quality_root_mean_squared_error: 1.6722 - val_wine_type_accuracy: 0.8200\n",
      "Epoch 4/180\n",
      "99/99 [==============================] - 0s 2ms/step - loss: 3.6568 - wine_quality_loss: 3.1297 - wine_type_loss: 0.5270 - wine_quality_root_mean_squared_error: 1.7655 - wine_type_accuracy: 0.8314 - val_loss: 2.4540 - val_wine_quality_loss: 1.9935 - val_wine_type_loss: 0.4605 - val_wine_quality_root_mean_squared_error: 1.4119 - val_wine_type_accuracy: 0.8504\n",
      "Epoch 5/180\n",
      "99/99 [==============================] - 0s 2ms/step - loss: 2.5640 - wine_quality_loss: 2.1327 - wine_type_loss: 0.4313 - wine_quality_root_mean_squared_error: 1.4598 - wine_type_accuracy: 0.8572 - val_loss: 2.0743 - val_wine_quality_loss: 1.6986 - val_wine_type_loss: 0.3757 - val_wine_quality_root_mean_squared_error: 1.3033 - val_wine_type_accuracy: 0.9100\n",
      "Epoch 6/180\n",
      "99/99 [==============================] - 0s 2ms/step - loss: 2.1507 - wine_quality_loss: 1.7981 - wine_type_loss: 0.3526 - wine_quality_root_mean_squared_error: 1.3406 - wine_type_accuracy: 0.9280 - val_loss: 1.8100 - val_wine_quality_loss: 1.5067 - val_wine_type_loss: 0.3033 - val_wine_quality_root_mean_squared_error: 1.2275 - val_wine_type_accuracy: 0.9670\n",
      "Epoch 7/180\n",
      "99/99 [==============================] - 0s 2ms/step - loss: 1.8883 - wine_quality_loss: 1.6036 - wine_type_loss: 0.2848 - wine_quality_root_mean_squared_error: 1.2657 - wine_type_accuracy: 0.9703 - val_loss: 1.6110 - val_wine_quality_loss: 1.3659 - val_wine_type_loss: 0.2451 - val_wine_quality_root_mean_squared_error: 1.1687 - val_wine_type_accuracy: 0.9797\n",
      "Epoch 8/180\n",
      "99/99 [==============================] - 0s 2ms/step - loss: 1.6897 - wine_quality_loss: 1.4622 - wine_type_loss: 0.2275 - wine_quality_root_mean_squared_error: 1.2083 - wine_type_accuracy: 0.9800 - val_loss: 1.4619 - val_wine_quality_loss: 1.2625 - val_wine_type_loss: 0.1994 - val_wine_quality_root_mean_squared_error: 1.1236 - val_wine_type_accuracy: 0.9861\n",
      "Epoch 9/180\n",
      "99/99 [==============================] - 0s 2ms/step - loss: 1.5517 - wine_quality_loss: 1.3681 - wine_type_loss: 0.1836 - wine_quality_root_mean_squared_error: 1.1695 - wine_type_accuracy: 0.9874 - val_loss: 1.3352 - val_wine_quality_loss: 1.1719 - val_wine_type_loss: 0.1633 - val_wine_quality_root_mean_squared_error: 1.0825 - val_wine_type_accuracy: 0.9886\n",
      "Epoch 10/180\n",
      "99/99 [==============================] - 0s 2ms/step - loss: 1.4638 - wine_quality_loss: 1.3103 - wine_type_loss: 0.1535 - wine_quality_root_mean_squared_error: 1.1440 - wine_type_accuracy: 0.9878 - val_loss: 1.2332 - val_wine_quality_loss: 1.0958 - val_wine_type_loss: 0.1374 - val_wine_quality_root_mean_squared_error: 1.0468 - val_wine_type_accuracy: 0.9886\n",
      "Epoch 11/180\n",
      "99/99 [==============================] - 0s 2ms/step - loss: 1.3730 - wine_quality_loss: 1.2492 - wine_type_loss: 0.1238 - wine_quality_root_mean_squared_error: 1.1173 - wine_type_accuracy: 0.9894 - val_loss: 1.1435 - val_wine_quality_loss: 1.0265 - val_wine_type_loss: 0.1171 - val_wine_quality_root_mean_squared_error: 1.0132 - val_wine_type_accuracy: 0.9924\n",
      "Epoch 12/180\n",
      "99/99 [==============================] - 0s 2ms/step - loss: 1.2728 - wine_quality_loss: 1.1737 - wine_type_loss: 0.0992 - wine_quality_root_mean_squared_error: 1.0826 - wine_type_accuracy: 0.9948 - val_loss: 1.0657 - val_wine_quality_loss: 0.9638 - val_wine_type_loss: 0.1019 - val_wine_quality_root_mean_squared_error: 0.9817 - val_wine_type_accuracy: 0.9924\n",
      "Epoch 13/180\n",
      "99/99 [==============================] - 0s 2ms/step - loss: 1.1028 - wine_quality_loss: 1.0155 - wine_type_loss: 0.0873 - wine_quality_root_mean_squared_error: 1.0072 - wine_type_accuracy: 0.9929 - val_loss: 0.9993 - val_wine_quality_loss: 0.9089 - val_wine_type_loss: 0.0904 - val_wine_quality_root_mean_squared_error: 0.9534 - val_wine_type_accuracy: 0.9924\n",
      "Epoch 14/180\n",
      "99/99 [==============================] - 0s 2ms/step - loss: 1.0749 - wine_quality_loss: 0.9975 - wine_type_loss: 0.0773 - wine_quality_root_mean_squared_error: 0.9979 - wine_type_accuracy: 0.9915 - val_loss: 0.9413 - val_wine_quality_loss: 0.8592 - val_wine_type_loss: 0.0821 - val_wine_quality_root_mean_squared_error: 0.9270 - val_wine_type_accuracy: 0.9911\n",
      "Epoch 15/180\n",
      "99/99 [==============================] - 0s 2ms/step - loss: 0.9977 - wine_quality_loss: 0.9297 - wine_type_loss: 0.0680 - wine_quality_root_mean_squared_error: 0.9639 - wine_type_accuracy: 0.9936 - val_loss: 0.8898 - val_wine_quality_loss: 0.8148 - val_wine_type_loss: 0.0750 - val_wine_quality_root_mean_squared_error: 0.9026 - val_wine_type_accuracy: 0.9911\n",
      "Epoch 16/180\n",
      "99/99 [==============================] - 0s 2ms/step - loss: 0.9329 - wine_quality_loss: 0.8668 - wine_type_loss: 0.0661 - wine_quality_root_mean_squared_error: 0.9306 - wine_type_accuracy: 0.9911 - val_loss: 0.8372 - val_wine_quality_loss: 0.7673 - val_wine_type_loss: 0.0700 - val_wine_quality_root_mean_squared_error: 0.8759 - val_wine_type_accuracy: 0.9924\n",
      "Epoch 17/180\n",
      "99/99 [==============================] - 0s 2ms/step - loss: 1.0559 - wine_quality_loss: 0.9956 - wine_type_loss: 0.0604 - wine_quality_root_mean_squared_error: 0.9892 - wine_type_accuracy: 0.9919 - val_loss: 0.7978 - val_wine_quality_loss: 0.7321 - val_wine_type_loss: 0.0657 - val_wine_quality_root_mean_squared_error: 0.8556 - val_wine_type_accuracy: 0.9924\n",
      "Epoch 18/180\n",
      "99/99 [==============================] - 0s 2ms/step - loss: 0.9132 - wine_quality_loss: 0.8594 - wine_type_loss: 0.0538 - wine_quality_root_mean_squared_error: 0.9261 - wine_type_accuracy: 0.9936 - val_loss: 0.7604 - val_wine_quality_loss: 0.6980 - val_wine_type_loss: 0.0625 - val_wine_quality_root_mean_squared_error: 0.8354 - val_wine_type_accuracy: 0.9924\n",
      "Epoch 19/180\n",
      "99/99 [==============================] - 0s 2ms/step - loss: 0.7747 - wine_quality_loss: 0.7287 - wine_type_loss: 0.0460 - wine_quality_root_mean_squared_error: 0.8525 - wine_type_accuracy: 0.9953 - val_loss: 0.7219 - val_wine_quality_loss: 0.6622 - val_wine_type_loss: 0.0598 - val_wine_quality_root_mean_squared_error: 0.8137 - val_wine_type_accuracy: 0.9924\n",
      "Epoch 20/180\n",
      "99/99 [==============================] - 0s 3ms/step - loss: 0.7372 - wine_quality_loss: 0.6917 - wine_type_loss: 0.0455 - wine_quality_root_mean_squared_error: 0.8312 - wine_type_accuracy: 0.9948 - val_loss: 0.6925 - val_wine_quality_loss: 0.6350 - val_wine_type_loss: 0.0576 - val_wine_quality_root_mean_squared_error: 0.7968 - val_wine_type_accuracy: 0.9924\n",
      "Epoch 21/180\n",
      "99/99 [==============================] - 0s 3ms/step - loss: 0.7130 - wine_quality_loss: 0.6681 - wine_type_loss: 0.0449 - wine_quality_root_mean_squared_error: 0.8162 - wine_type_accuracy: 0.9955 - val_loss: 0.6664 - val_wine_quality_loss: 0.6107 - val_wine_type_loss: 0.0557 - val_wine_quality_root_mean_squared_error: 0.7815 - val_wine_type_accuracy: 0.9924\n",
      "Epoch 22/180\n",
      "99/99 [==============================] - 0s 2ms/step - loss: 0.6579 - wine_quality_loss: 0.6187 - wine_type_loss: 0.0392 - wine_quality_root_mean_squared_error: 0.7860 - wine_type_accuracy: 0.9945 - val_loss: 0.6369 - val_wine_quality_loss: 0.5826 - val_wine_type_loss: 0.0543 - val_wine_quality_root_mean_squared_error: 0.7633 - val_wine_type_accuracy: 0.9924\n"
     ]
    },
    {
     "name": "stdout",
     "output_type": "stream",
     "text": [
      "Epoch 23/180\n",
      "99/99 [==============================] - 0s 2ms/step - loss: 0.6530 - wine_quality_loss: 0.6069 - wine_type_loss: 0.0460 - wine_quality_root_mean_squared_error: 0.7785 - wine_type_accuracy: 0.9943 - val_loss: 0.6186 - val_wine_quality_loss: 0.5654 - val_wine_type_loss: 0.0532 - val_wine_quality_root_mean_squared_error: 0.7519 - val_wine_type_accuracy: 0.9924\n",
      "Epoch 24/180\n",
      "99/99 [==============================] - 0s 2ms/step - loss: 0.5855 - wine_quality_loss: 0.5493 - wine_type_loss: 0.0362 - wine_quality_root_mean_squared_error: 0.7410 - wine_type_accuracy: 0.9956 - val_loss: 0.5957 - val_wine_quality_loss: 0.5436 - val_wine_type_loss: 0.0521 - val_wine_quality_root_mean_squared_error: 0.7373 - val_wine_type_accuracy: 0.9924\n",
      "Epoch 25/180\n",
      "99/99 [==============================] - 0s 2ms/step - loss: 0.5604 - wine_quality_loss: 0.5157 - wine_type_loss: 0.0447 - wine_quality_root_mean_squared_error: 0.7179 - wine_type_accuracy: 0.9934 - val_loss: 0.5733 - val_wine_quality_loss: 0.5221 - val_wine_type_loss: 0.0512 - val_wine_quality_root_mean_squared_error: 0.7226 - val_wine_type_accuracy: 0.9924\n",
      "Epoch 26/180\n",
      "99/99 [==============================] - 0s 3ms/step - loss: 0.5939 - wine_quality_loss: 0.5615 - wine_type_loss: 0.0324 - wine_quality_root_mean_squared_error: 0.7486 - wine_type_accuracy: 0.9954 - val_loss: 0.5532 - val_wine_quality_loss: 0.5028 - val_wine_type_loss: 0.0504 - val_wine_quality_root_mean_squared_error: 0.7091 - val_wine_type_accuracy: 0.9924\n",
      "Epoch 27/180\n",
      "99/99 [==============================] - 0s 2ms/step - loss: 0.5118 - wine_quality_loss: 0.4808 - wine_type_loss: 0.0311 - wine_quality_root_mean_squared_error: 0.6932 - wine_type_accuracy: 0.9959 - val_loss: 0.5421 - val_wine_quality_loss: 0.4924 - val_wine_type_loss: 0.0497 - val_wine_quality_root_mean_squared_error: 0.7017 - val_wine_type_accuracy: 0.9924\n",
      "Epoch 28/180\n",
      "99/99 [==============================] - 0s 3ms/step - loss: 0.5846 - wine_quality_loss: 0.5457 - wine_type_loss: 0.0389 - wine_quality_root_mean_squared_error: 0.7318 - wine_type_accuracy: 0.9940 - val_loss: 0.5182 - val_wine_quality_loss: 0.4690 - val_wine_type_loss: 0.0491 - val_wine_quality_root_mean_squared_error: 0.6849 - val_wine_type_accuracy: 0.9924\n",
      "Epoch 29/180\n",
      "99/99 [==============================] - 0s 2ms/step - loss: 0.5035 - wine_quality_loss: 0.4515 - wine_type_loss: 0.0520 - wine_quality_root_mean_squared_error: 0.6715 - wine_type_accuracy: 0.9911 - val_loss: 0.5119 - val_wine_quality_loss: 0.4634 - val_wine_type_loss: 0.0485 - val_wine_quality_root_mean_squared_error: 0.6808 - val_wine_type_accuracy: 0.9924\n",
      "Epoch 30/180\n",
      "99/99 [==============================] - 0s 3ms/step - loss: 0.4859 - wine_quality_loss: 0.4627 - wine_type_loss: 0.0232 - wine_quality_root_mean_squared_error: 0.6798 - wine_type_accuracy: 0.9966 - val_loss: 0.4941 - val_wine_quality_loss: 0.4459 - val_wine_type_loss: 0.0482 - val_wine_quality_root_mean_squared_error: 0.6678 - val_wine_type_accuracy: 0.9924\n",
      "Epoch 31/180\n",
      "99/99 [==============================] - 0s 2ms/step - loss: 0.4694 - wine_quality_loss: 0.4450 - wine_type_loss: 0.0244 - wine_quality_root_mean_squared_error: 0.6668 - wine_type_accuracy: 0.9965 - val_loss: 0.4930 - val_wine_quality_loss: 0.4452 - val_wine_type_loss: 0.0478 - val_wine_quality_root_mean_squared_error: 0.6672 - val_wine_type_accuracy: 0.9924\n",
      "Epoch 32/180\n",
      "99/99 [==============================] - 0s 2ms/step - loss: 0.4226 - wine_quality_loss: 0.3912 - wine_type_loss: 0.0314 - wine_quality_root_mean_squared_error: 0.6252 - wine_type_accuracy: 0.9934 - val_loss: 0.4748 - val_wine_quality_loss: 0.4273 - val_wine_type_loss: 0.0475 - val_wine_quality_root_mean_squared_error: 0.6537 - val_wine_type_accuracy: 0.9937\n",
      "Epoch 33/180\n",
      "99/99 [==============================] - 0s 2ms/step - loss: 0.4545 - wine_quality_loss: 0.4139 - wine_type_loss: 0.0406 - wine_quality_root_mean_squared_error: 0.6432 - wine_type_accuracy: 0.9938 - val_loss: 0.4617 - val_wine_quality_loss: 0.4147 - val_wine_type_loss: 0.0470 - val_wine_quality_root_mean_squared_error: 0.6440 - val_wine_type_accuracy: 0.9937\n",
      "Epoch 34/180\n",
      "99/99 [==============================] - 0s 2ms/step - loss: 0.4086 - wine_quality_loss: 0.3777 - wine_type_loss: 0.0310 - wine_quality_root_mean_squared_error: 0.6145 - wine_type_accuracy: 0.9946 - val_loss: 0.4550 - val_wine_quality_loss: 0.4082 - val_wine_type_loss: 0.0468 - val_wine_quality_root_mean_squared_error: 0.6389 - val_wine_type_accuracy: 0.9937\n",
      "Epoch 35/180\n",
      "99/99 [==============================] - 0s 2ms/step - loss: 0.4069 - wine_quality_loss: 0.3779 - wine_type_loss: 0.0291 - wine_quality_root_mean_squared_error: 0.6145 - wine_type_accuracy: 0.9953 - val_loss: 0.4498 - val_wine_quality_loss: 0.4031 - val_wine_type_loss: 0.0467 - val_wine_quality_root_mean_squared_error: 0.6349 - val_wine_type_accuracy: 0.9937\n",
      "Epoch 36/180\n",
      "99/99 [==============================] - 0s 2ms/step - loss: 0.3961 - wine_quality_loss: 0.3717 - wine_type_loss: 0.0244 - wine_quality_root_mean_squared_error: 0.6094 - wine_type_accuracy: 0.9966 - val_loss: 0.4432 - val_wine_quality_loss: 0.3967 - val_wine_type_loss: 0.0464 - val_wine_quality_root_mean_squared_error: 0.6299 - val_wine_type_accuracy: 0.9937\n",
      "Epoch 37/180\n",
      "99/99 [==============================] - 0s 3ms/step - loss: 0.3829 - wine_quality_loss: 0.3597 - wine_type_loss: 0.0231 - wine_quality_root_mean_squared_error: 0.5996 - wine_type_accuracy: 0.9959 - val_loss: 0.4428 - val_wine_quality_loss: 0.3966 - val_wine_type_loss: 0.0462 - val_wine_quality_root_mean_squared_error: 0.6298 - val_wine_type_accuracy: 0.9937\n",
      "Epoch 38/180\n",
      "99/99 [==============================] - 0s 3ms/step - loss: 0.3927 - wine_quality_loss: 0.3677 - wine_type_loss: 0.0250 - wine_quality_root_mean_squared_error: 0.6063 - wine_type_accuracy: 0.9959 - val_loss: 0.4330 - val_wine_quality_loss: 0.3870 - val_wine_type_loss: 0.0460 - val_wine_quality_root_mean_squared_error: 0.6221 - val_wine_type_accuracy: 0.9937\n",
      "Epoch 39/180\n",
      "99/99 [==============================] - 0s 2ms/step - loss: 0.3699 - wine_quality_loss: 0.3399 - wine_type_loss: 0.0300 - wine_quality_root_mean_squared_error: 0.5830 - wine_type_accuracy: 0.9934 - val_loss: 0.4300 - val_wine_quality_loss: 0.3842 - val_wine_type_loss: 0.0458 - val_wine_quality_root_mean_squared_error: 0.6199 - val_wine_type_accuracy: 0.9937\n",
      "Epoch 40/180\n",
      "99/99 [==============================] - 0s 2ms/step - loss: 0.3782 - wine_quality_loss: 0.3388 - wine_type_loss: 0.0395 - wine_quality_root_mean_squared_error: 0.5819 - wine_type_accuracy: 0.9927 - val_loss: 0.4196 - val_wine_quality_loss: 0.3741 - val_wine_type_loss: 0.0455 - val_wine_quality_root_mean_squared_error: 0.6116 - val_wine_type_accuracy: 0.9937\n",
      "Epoch 41/180\n",
      "99/99 [==============================] - 0s 3ms/step - loss: 0.3649 - wine_quality_loss: 0.3318 - wine_type_loss: 0.0331 - wine_quality_root_mean_squared_error: 0.5757 - wine_type_accuracy: 0.9936 - val_loss: 0.4234 - val_wine_quality_loss: 0.3782 - val_wine_type_loss: 0.0453 - val_wine_quality_root_mean_squared_error: 0.6150 - val_wine_type_accuracy: 0.9937\n",
      "Epoch 42/180\n",
      "99/99 [==============================] - 0s 3ms/step - loss: 0.3668 - wine_quality_loss: 0.3443 - wine_type_loss: 0.0225 - wine_quality_root_mean_squared_error: 0.5865 - wine_type_accuracy: 0.9947 - val_loss: 0.4128 - val_wine_quality_loss: 0.3676 - val_wine_type_loss: 0.0452 - val_wine_quality_root_mean_squared_error: 0.6063 - val_wine_type_accuracy: 0.9937\n",
      "Epoch 43/180\n",
      "99/99 [==============================] - 0s 3ms/step - loss: 0.3499 - wine_quality_loss: 0.3180 - wine_type_loss: 0.0320 - wine_quality_root_mean_squared_error: 0.5635 - wine_type_accuracy: 0.9933 - val_loss: 0.4130 - val_wine_quality_loss: 0.3679 - val_wine_type_loss: 0.0451 - val_wine_quality_root_mean_squared_error: 0.6066 - val_wine_type_accuracy: 0.9937\n",
      "Epoch 44/180\n",
      "99/99 [==============================] - 0s 2ms/step - loss: 0.3324 - wine_quality_loss: 0.3114 - wine_type_loss: 0.0210 - wine_quality_root_mean_squared_error: 0.5580 - wine_type_accuracy: 0.9960 - val_loss: 0.4096 - val_wine_quality_loss: 0.3646 - val_wine_type_loss: 0.0450 - val_wine_quality_root_mean_squared_error: 0.6038 - val_wine_type_accuracy: 0.9937\n"
     ]
    },
    {
     "name": "stdout",
     "output_type": "stream",
     "text": [
      "Epoch 45/180\n",
      "99/99 [==============================] - 0s 3ms/step - loss: 0.3347 - wine_quality_loss: 0.3140 - wine_type_loss: 0.0208 - wine_quality_root_mean_squared_error: 0.5602 - wine_type_accuracy: 0.9952 - val_loss: 0.4052 - val_wine_quality_loss: 0.3605 - val_wine_type_loss: 0.0447 - val_wine_quality_root_mean_squared_error: 0.6004 - val_wine_type_accuracy: 0.9937\n",
      "Epoch 46/180\n",
      "99/99 [==============================] - 0s 2ms/step - loss: 0.3562 - wine_quality_loss: 0.3181 - wine_type_loss: 0.0381 - wine_quality_root_mean_squared_error: 0.5639 - wine_type_accuracy: 0.9946 - val_loss: 0.4109 - val_wine_quality_loss: 0.3664 - val_wine_type_loss: 0.0445 - val_wine_quality_root_mean_squared_error: 0.6053 - val_wine_type_accuracy: 0.9937\n",
      "Epoch 47/180\n",
      "99/99 [==============================] - 0s 3ms/step - loss: 0.3306 - wine_quality_loss: 0.3042 - wine_type_loss: 0.0264 - wine_quality_root_mean_squared_error: 0.5514 - wine_type_accuracy: 0.9951 - val_loss: 0.4067 - val_wine_quality_loss: 0.3622 - val_wine_type_loss: 0.0444 - val_wine_quality_root_mean_squared_error: 0.6019 - val_wine_type_accuracy: 0.9937\n",
      "Epoch 48/180\n",
      "99/99 [==============================] - 0s 3ms/step - loss: 0.3208 - wine_quality_loss: 0.3027 - wine_type_loss: 0.0181 - wine_quality_root_mean_squared_error: 0.5502 - wine_type_accuracy: 0.9965 - val_loss: 0.3998 - val_wine_quality_loss: 0.3555 - val_wine_type_loss: 0.0443 - val_wine_quality_root_mean_squared_error: 0.5963 - val_wine_type_accuracy: 0.9937\n",
      "Epoch 49/180\n",
      "99/99 [==============================] - 0s 2ms/step - loss: 0.3221 - wine_quality_loss: 0.3008 - wine_type_loss: 0.0213 - wine_quality_root_mean_squared_error: 0.5483 - wine_type_accuracy: 0.9968 - val_loss: 0.4052 - val_wine_quality_loss: 0.3610 - val_wine_type_loss: 0.0442 - val_wine_quality_root_mean_squared_error: 0.6008 - val_wine_type_accuracy: 0.9937\n",
      "Epoch 50/180\n",
      "99/99 [==============================] - 0s 2ms/step - loss: 0.3343 - wine_quality_loss: 0.3140 - wine_type_loss: 0.0203 - wine_quality_root_mean_squared_error: 0.5602 - wine_type_accuracy: 0.9954 - val_loss: 0.4035 - val_wine_quality_loss: 0.3595 - val_wine_type_loss: 0.0441 - val_wine_quality_root_mean_squared_error: 0.5996 - val_wine_type_accuracy: 0.9937\n",
      "Epoch 51/180\n",
      "99/99 [==============================] - 0s 2ms/step - loss: 0.3375 - wine_quality_loss: 0.3156 - wine_type_loss: 0.0219 - wine_quality_root_mean_squared_error: 0.5616 - wine_type_accuracy: 0.9963 - val_loss: 0.4022 - val_wine_quality_loss: 0.3585 - val_wine_type_loss: 0.0438 - val_wine_quality_root_mean_squared_error: 0.5987 - val_wine_type_accuracy: 0.9937\n",
      "Epoch 52/180\n",
      "99/99 [==============================] - 0s 2ms/step - loss: 0.3511 - wine_quality_loss: 0.3093 - wine_type_loss: 0.0417 - wine_quality_root_mean_squared_error: 0.5559 - wine_type_accuracy: 0.9937 - val_loss: 0.4003 - val_wine_quality_loss: 0.3566 - val_wine_type_loss: 0.0437 - val_wine_quality_root_mean_squared_error: 0.5971 - val_wine_type_accuracy: 0.9937\n",
      "Epoch 53/180\n",
      "99/99 [==============================] - 0s 2ms/step - loss: 0.3254 - wine_quality_loss: 0.2976 - wine_type_loss: 0.0278 - wine_quality_root_mean_squared_error: 0.5455 - wine_type_accuracy: 0.9956 - val_loss: 0.3951 - val_wine_quality_loss: 0.3514 - val_wine_type_loss: 0.0437 - val_wine_quality_root_mean_squared_error: 0.5928 - val_wine_type_accuracy: 0.9937\n",
      "Epoch 54/180\n",
      "99/99 [==============================] - 0s 2ms/step - loss: 0.3357 - wine_quality_loss: 0.3078 - wine_type_loss: 0.0279 - wine_quality_root_mean_squared_error: 0.5547 - wine_type_accuracy: 0.9941 - val_loss: 0.4011 - val_wine_quality_loss: 0.3577 - val_wine_type_loss: 0.0435 - val_wine_quality_root_mean_squared_error: 0.5980 - val_wine_type_accuracy: 0.9937\n",
      "Epoch 55/180\n",
      "99/99 [==============================] - 0s 2ms/step - loss: 0.3250 - wine_quality_loss: 0.3070 - wine_type_loss: 0.0180 - wine_quality_root_mean_squared_error: 0.5540 - wine_type_accuracy: 0.9966 - val_loss: 0.3988 - val_wine_quality_loss: 0.3554 - val_wine_type_loss: 0.0434 - val_wine_quality_root_mean_squared_error: 0.5961 - val_wine_type_accuracy: 0.9937\n",
      "Epoch 56/180\n",
      "99/99 [==============================] - 0s 2ms/step - loss: 0.3154 - wine_quality_loss: 0.2922 - wine_type_loss: 0.0232 - wine_quality_root_mean_squared_error: 0.5405 - wine_type_accuracy: 0.9947 - val_loss: 0.3933 - val_wine_quality_loss: 0.3500 - val_wine_type_loss: 0.0432 - val_wine_quality_root_mean_squared_error: 0.5916 - val_wine_type_accuracy: 0.9937\n",
      "Epoch 57/180\n",
      "99/99 [==============================] - 0s 2ms/step - loss: 0.3187 - wine_quality_loss: 0.2968 - wine_type_loss: 0.0220 - wine_quality_root_mean_squared_error: 0.5446 - wine_type_accuracy: 0.9969 - val_loss: 0.4075 - val_wine_quality_loss: 0.3646 - val_wine_type_loss: 0.0429 - val_wine_quality_root_mean_squared_error: 0.6038 - val_wine_type_accuracy: 0.9937\n",
      "Epoch 58/180\n",
      "99/99 [==============================] - 0s 2ms/step - loss: 0.3231 - wine_quality_loss: 0.2988 - wine_type_loss: 0.0244 - wine_quality_root_mean_squared_error: 0.5465 - wine_type_accuracy: 0.9956 - val_loss: 0.3885 - val_wine_quality_loss: 0.3456 - val_wine_type_loss: 0.0429 - val_wine_quality_root_mean_squared_error: 0.5879 - val_wine_type_accuracy: 0.9937\n",
      "Epoch 59/180\n",
      "99/99 [==============================] - 0s 2ms/step - loss: 0.3142 - wine_quality_loss: 0.2960 - wine_type_loss: 0.0182 - wine_quality_root_mean_squared_error: 0.5440 - wine_type_accuracy: 0.9963 - val_loss: 0.3897 - val_wine_quality_loss: 0.3470 - val_wine_type_loss: 0.0428 - val_wine_quality_root_mean_squared_error: 0.5890 - val_wine_type_accuracy: 0.9937\n",
      "Epoch 60/180\n",
      "99/99 [==============================] - 0s 2ms/step - loss: 0.3117 - wine_quality_loss: 0.2857 - wine_type_loss: 0.0260 - wine_quality_root_mean_squared_error: 0.5343 - wine_type_accuracy: 0.9953 - val_loss: 0.3954 - val_wine_quality_loss: 0.3526 - val_wine_type_loss: 0.0427 - val_wine_quality_root_mean_squared_error: 0.5938 - val_wine_type_accuracy: 0.9937\n",
      "Epoch 61/180\n",
      "99/99 [==============================] - 0s 2ms/step - loss: 0.3038 - wine_quality_loss: 0.2883 - wine_type_loss: 0.0155 - wine_quality_root_mean_squared_error: 0.5368 - wine_type_accuracy: 0.9974 - val_loss: 0.3864 - val_wine_quality_loss: 0.3438 - val_wine_type_loss: 0.0426 - val_wine_quality_root_mean_squared_error: 0.5864 - val_wine_type_accuracy: 0.9937\n",
      "Epoch 62/180\n",
      "99/99 [==============================] - 0s 2ms/step - loss: 0.3315 - wine_quality_loss: 0.3060 - wine_type_loss: 0.0255 - wine_quality_root_mean_squared_error: 0.5528 - wine_type_accuracy: 0.9953 - val_loss: 0.3874 - val_wine_quality_loss: 0.3450 - val_wine_type_loss: 0.0424 - val_wine_quality_root_mean_squared_error: 0.5874 - val_wine_type_accuracy: 0.9937\n",
      "Epoch 63/180\n",
      "99/99 [==============================] - 0s 3ms/step - loss: 0.3049 - wine_quality_loss: 0.2925 - wine_type_loss: 0.0124 - wine_quality_root_mean_squared_error: 0.5408 - wine_type_accuracy: 0.9979 - val_loss: 0.3872 - val_wine_quality_loss: 0.3449 - val_wine_type_loss: 0.0422 - val_wine_quality_root_mean_squared_error: 0.5873 - val_wine_type_accuracy: 0.9937\n",
      "Epoch 64/180\n",
      "99/99 [==============================] - 0s 2ms/step - loss: 0.3052 - wine_quality_loss: 0.2814 - wine_type_loss: 0.0239 - wine_quality_root_mean_squared_error: 0.5303 - wine_type_accuracy: 0.9949 - val_loss: 0.3969 - val_wine_quality_loss: 0.3548 - val_wine_type_loss: 0.0422 - val_wine_quality_root_mean_squared_error: 0.5956 - val_wine_type_accuracy: 0.9937\n",
      "Epoch 65/180\n",
      "99/99 [==============================] - 0s 2ms/step - loss: 0.3185 - wine_quality_loss: 0.2976 - wine_type_loss: 0.0210 - wine_quality_root_mean_squared_error: 0.5454 - wine_type_accuracy: 0.9966 - val_loss: 0.3840 - val_wine_quality_loss: 0.3419 - val_wine_type_loss: 0.0421 - val_wine_quality_root_mean_squared_error: 0.5847 - val_wine_type_accuracy: 0.9937\n",
      "Epoch 66/180\n",
      "99/99 [==============================] - 0s 2ms/step - loss: 0.3051 - wine_quality_loss: 0.2907 - wine_type_loss: 0.0144 - wine_quality_root_mean_squared_error: 0.5391 - wine_type_accuracy: 0.9972 - val_loss: 0.3912 - val_wine_quality_loss: 0.3492 - val_wine_type_loss: 0.0419 - val_wine_quality_root_mean_squared_error: 0.5910 - val_wine_type_accuracy: 0.9937\n"
     ]
    },
    {
     "name": "stdout",
     "output_type": "stream",
     "text": [
      "Epoch 67/180\n",
      "99/99 [==============================] - 0s 2ms/step - loss: 0.3134 - wine_quality_loss: 0.2886 - wine_type_loss: 0.0248 - wine_quality_root_mean_squared_error: 0.5372 - wine_type_accuracy: 0.9959 - val_loss: 0.3855 - val_wine_quality_loss: 0.3436 - val_wine_type_loss: 0.0418 - val_wine_quality_root_mean_squared_error: 0.5862 - val_wine_type_accuracy: 0.9937\n",
      "Epoch 68/180\n",
      "99/99 [==============================] - 0s 2ms/step - loss: 0.3192 - wine_quality_loss: 0.2803 - wine_type_loss: 0.0389 - wine_quality_root_mean_squared_error: 0.5293 - wine_type_accuracy: 0.9934 - val_loss: 0.3911 - val_wine_quality_loss: 0.3493 - val_wine_type_loss: 0.0418 - val_wine_quality_root_mean_squared_error: 0.5910 - val_wine_type_accuracy: 0.9937\n",
      "Epoch 69/180\n",
      "99/99 [==============================] - 0s 2ms/step - loss: 0.2989 - wine_quality_loss: 0.2821 - wine_type_loss: 0.0168 - wine_quality_root_mean_squared_error: 0.5310 - wine_type_accuracy: 0.9964 - val_loss: 0.3897 - val_wine_quality_loss: 0.3481 - val_wine_type_loss: 0.0417 - val_wine_quality_root_mean_squared_error: 0.5900 - val_wine_type_accuracy: 0.9937\n",
      "Epoch 70/180\n",
      "99/99 [==============================] - 0s 3ms/step - loss: 0.3039 - wine_quality_loss: 0.2702 - wine_type_loss: 0.0337 - wine_quality_root_mean_squared_error: 0.5195 - wine_type_accuracy: 0.9934 - val_loss: 0.3880 - val_wine_quality_loss: 0.3465 - val_wine_type_loss: 0.0415 - val_wine_quality_root_mean_squared_error: 0.5886 - val_wine_type_accuracy: 0.9937\n",
      "Epoch 71/180\n",
      "99/99 [==============================] - 0s 2ms/step - loss: 0.3008 - wine_quality_loss: 0.2839 - wine_type_loss: 0.0169 - wine_quality_root_mean_squared_error: 0.5326 - wine_type_accuracy: 0.9957 - val_loss: 0.3877 - val_wine_quality_loss: 0.3463 - val_wine_type_loss: 0.0415 - val_wine_quality_root_mean_squared_error: 0.5884 - val_wine_type_accuracy: 0.9937\n",
      "Epoch 72/180\n",
      "99/99 [==============================] - 0s 2ms/step - loss: 0.3154 - wine_quality_loss: 0.2799 - wine_type_loss: 0.0355 - wine_quality_root_mean_squared_error: 0.5289 - wine_type_accuracy: 0.9948 - val_loss: 0.3830 - val_wine_quality_loss: 0.3417 - val_wine_type_loss: 0.0413 - val_wine_quality_root_mean_squared_error: 0.5846 - val_wine_type_accuracy: 0.9937\n",
      "Epoch 73/180\n",
      "99/99 [==============================] - 0s 2ms/step - loss: 0.2929 - wine_quality_loss: 0.2759 - wine_type_loss: 0.0170 - wine_quality_root_mean_squared_error: 0.5252 - wine_type_accuracy: 0.9973 - val_loss: 0.3829 - val_wine_quality_loss: 0.3417 - val_wine_type_loss: 0.0413 - val_wine_quality_root_mean_squared_error: 0.5845 - val_wine_type_accuracy: 0.9937\n",
      "Epoch 74/180\n",
      "99/99 [==============================] - 0s 2ms/step - loss: 0.2865 - wine_quality_loss: 0.2686 - wine_type_loss: 0.0179 - wine_quality_root_mean_squared_error: 0.5181 - wine_type_accuracy: 0.9961 - val_loss: 0.3816 - val_wine_quality_loss: 0.3404 - val_wine_type_loss: 0.0412 - val_wine_quality_root_mean_squared_error: 0.5835 - val_wine_type_accuracy: 0.9937\n",
      "Epoch 75/180\n",
      "99/99 [==============================] - 0s 2ms/step - loss: 0.3027 - wine_quality_loss: 0.2797 - wine_type_loss: 0.0231 - wine_quality_root_mean_squared_error: 0.5287 - wine_type_accuracy: 0.9965 - val_loss: 0.3856 - val_wine_quality_loss: 0.3447 - val_wine_type_loss: 0.0409 - val_wine_quality_root_mean_squared_error: 0.5871 - val_wine_type_accuracy: 0.9937\n",
      "Epoch 76/180\n",
      "99/99 [==============================] - 0s 2ms/step - loss: 0.3046 - wine_quality_loss: 0.2834 - wine_type_loss: 0.0212 - wine_quality_root_mean_squared_error: 0.5322 - wine_type_accuracy: 0.9963 - val_loss: 0.3871 - val_wine_quality_loss: 0.3464 - val_wine_type_loss: 0.0408 - val_wine_quality_root_mean_squared_error: 0.5885 - val_wine_type_accuracy: 0.9937\n",
      "Epoch 77/180\n",
      "99/99 [==============================] - 0s 2ms/step - loss: 0.2900 - wine_quality_loss: 0.2733 - wine_type_loss: 0.0167 - wine_quality_root_mean_squared_error: 0.5227 - wine_type_accuracy: 0.9965 - val_loss: 0.3822 - val_wine_quality_loss: 0.3414 - val_wine_type_loss: 0.0408 - val_wine_quality_root_mean_squared_error: 0.5843 - val_wine_type_accuracy: 0.9937\n",
      "Epoch 78/180\n",
      "99/99 [==============================] - 0s 3ms/step - loss: 0.2961 - wine_quality_loss: 0.2822 - wine_type_loss: 0.0139 - wine_quality_root_mean_squared_error: 0.5311 - wine_type_accuracy: 0.9973 - val_loss: 0.3857 - val_wine_quality_loss: 0.3450 - val_wine_type_loss: 0.0407 - val_wine_quality_root_mean_squared_error: 0.5874 - val_wine_type_accuracy: 0.9937\n",
      "Epoch 79/180\n",
      "99/99 [==============================] - 0s 2ms/step - loss: 0.3078 - wine_quality_loss: 0.2795 - wine_type_loss: 0.0282 - wine_quality_root_mean_squared_error: 0.5287 - wine_type_accuracy: 0.9954 - val_loss: 0.3812 - val_wine_quality_loss: 0.3405 - val_wine_type_loss: 0.0407 - val_wine_quality_root_mean_squared_error: 0.5835 - val_wine_type_accuracy: 0.9937\n",
      "Epoch 80/180\n",
      "99/99 [==============================] - 0s 2ms/step - loss: 0.2987 - wine_quality_loss: 0.2805 - wine_type_loss: 0.0182 - wine_quality_root_mean_squared_error: 0.5295 - wine_type_accuracy: 0.9963 - val_loss: 0.3784 - val_wine_quality_loss: 0.3380 - val_wine_type_loss: 0.0404 - val_wine_quality_root_mean_squared_error: 0.5814 - val_wine_type_accuracy: 0.9937\n",
      "Epoch 81/180\n",
      "99/99 [==============================] - 0s 2ms/step - loss: 0.2930 - wine_quality_loss: 0.2758 - wine_type_loss: 0.0172 - wine_quality_root_mean_squared_error: 0.5250 - wine_type_accuracy: 0.9965 - val_loss: 0.3830 - val_wine_quality_loss: 0.3426 - val_wine_type_loss: 0.0404 - val_wine_quality_root_mean_squared_error: 0.5854 - val_wine_type_accuracy: 0.9937\n",
      "Epoch 82/180\n",
      "99/99 [==============================] - 0s 2ms/step - loss: 0.2916 - wine_quality_loss: 0.2683 - wine_type_loss: 0.0233 - wine_quality_root_mean_squared_error: 0.5179 - wine_type_accuracy: 0.9963 - val_loss: 0.3805 - val_wine_quality_loss: 0.3403 - val_wine_type_loss: 0.0402 - val_wine_quality_root_mean_squared_error: 0.5833 - val_wine_type_accuracy: 0.9937\n",
      "Epoch 83/180\n",
      "99/99 [==============================] - 0s 2ms/step - loss: 0.2897 - wine_quality_loss: 0.2713 - wine_type_loss: 0.0185 - wine_quality_root_mean_squared_error: 0.5208 - wine_type_accuracy: 0.9957 - val_loss: 0.3844 - val_wine_quality_loss: 0.3443 - val_wine_type_loss: 0.0402 - val_wine_quality_root_mean_squared_error: 0.5867 - val_wine_type_accuracy: 0.9937\n",
      "Epoch 84/180\n",
      "99/99 [==============================] - 0s 2ms/step - loss: 0.2974 - wine_quality_loss: 0.2831 - wine_type_loss: 0.0143 - wine_quality_root_mean_squared_error: 0.5316 - wine_type_accuracy: 0.9969 - val_loss: 0.3793 - val_wine_quality_loss: 0.3390 - val_wine_type_loss: 0.0402 - val_wine_quality_root_mean_squared_error: 0.5823 - val_wine_type_accuracy: 0.9937\n",
      "Epoch 85/180\n",
      "99/99 [==============================] - 0s 2ms/step - loss: 0.2923 - wine_quality_loss: 0.2730 - wine_type_loss: 0.0193 - wine_quality_root_mean_squared_error: 0.5225 - wine_type_accuracy: 0.9965 - val_loss: 0.3846 - val_wine_quality_loss: 0.3446 - val_wine_type_loss: 0.0399 - val_wine_quality_root_mean_squared_error: 0.5871 - val_wine_type_accuracy: 0.9937\n",
      "Epoch 86/180\n",
      "99/99 [==============================] - 0s 2ms/step - loss: 0.2849 - wine_quality_loss: 0.2724 - wine_type_loss: 0.0125 - wine_quality_root_mean_squared_error: 0.5219 - wine_type_accuracy: 0.9970 - val_loss: 0.3784 - val_wine_quality_loss: 0.3385 - val_wine_type_loss: 0.0399 - val_wine_quality_root_mean_squared_error: 0.5818 - val_wine_type_accuracy: 0.9937\n",
      "Epoch 87/180\n",
      "99/99 [==============================] - 0s 2ms/step - loss: 0.2859 - wine_quality_loss: 0.2600 - wine_type_loss: 0.0259 - wine_quality_root_mean_squared_error: 0.5096 - wine_type_accuracy: 0.9941 - val_loss: 0.3854 - val_wine_quality_loss: 0.3456 - val_wine_type_loss: 0.0399 - val_wine_quality_root_mean_squared_error: 0.5879 - val_wine_type_accuracy: 0.9937\n",
      "Epoch 88/180\n",
      "99/99 [==============================] - 0s 2ms/step - loss: 0.2904 - wine_quality_loss: 0.2764 - wine_type_loss: 0.0140 - wine_quality_root_mean_squared_error: 0.5257 - wine_type_accuracy: 0.9965 - val_loss: 0.3874 - val_wine_quality_loss: 0.3477 - val_wine_type_loss: 0.0397 - val_wine_quality_root_mean_squared_error: 0.5897 - val_wine_type_accuracy: 0.9937\n"
     ]
    },
    {
     "name": "stdout",
     "output_type": "stream",
     "text": [
      "Epoch 89/180\n",
      "99/99 [==============================] - 0s 2ms/step - loss: 0.2994 - wine_quality_loss: 0.2771 - wine_type_loss: 0.0223 - wine_quality_root_mean_squared_error: 0.5263 - wine_type_accuracy: 0.9945 - val_loss: 0.3792 - val_wine_quality_loss: 0.3397 - val_wine_type_loss: 0.0395 - val_wine_quality_root_mean_squared_error: 0.5828 - val_wine_type_accuracy: 0.9937\n",
      "Epoch 90/180\n",
      "99/99 [==============================] - 0s 3ms/step - loss: 0.2936 - wine_quality_loss: 0.2752 - wine_type_loss: 0.0184 - wine_quality_root_mean_squared_error: 0.5245 - wine_type_accuracy: 0.9956 - val_loss: 0.3804 - val_wine_quality_loss: 0.3409 - val_wine_type_loss: 0.0395 - val_wine_quality_root_mean_squared_error: 0.5839 - val_wine_type_accuracy: 0.9937\n",
      "Epoch 91/180\n",
      "99/99 [==============================] - 0s 2ms/step - loss: 0.2875 - wine_quality_loss: 0.2702 - wine_type_loss: 0.0173 - wine_quality_root_mean_squared_error: 0.5197 - wine_type_accuracy: 0.9967 - val_loss: 0.3822 - val_wine_quality_loss: 0.3428 - val_wine_type_loss: 0.0394 - val_wine_quality_root_mean_squared_error: 0.5855 - val_wine_type_accuracy: 0.9937\n",
      "Epoch 92/180\n",
      "99/99 [==============================] - 0s 3ms/step - loss: 0.2776 - wine_quality_loss: 0.2607 - wine_type_loss: 0.0168 - wine_quality_root_mean_squared_error: 0.5104 - wine_type_accuracy: 0.9959 - val_loss: 0.3801 - val_wine_quality_loss: 0.3407 - val_wine_type_loss: 0.0393 - val_wine_quality_root_mean_squared_error: 0.5837 - val_wine_type_accuracy: 0.9937\n",
      "Epoch 93/180\n",
      "99/99 [==============================] - 0s 3ms/step - loss: 0.2759 - wine_quality_loss: 0.2626 - wine_type_loss: 0.0134 - wine_quality_root_mean_squared_error: 0.5123 - wine_type_accuracy: 0.9971 - val_loss: 0.3786 - val_wine_quality_loss: 0.3393 - val_wine_type_loss: 0.0393 - val_wine_quality_root_mean_squared_error: 0.5825 - val_wine_type_accuracy: 0.9937\n",
      "Epoch 94/180\n",
      "99/99 [==============================] - 0s 2ms/step - loss: 0.2844 - wine_quality_loss: 0.2713 - wine_type_loss: 0.0130 - wine_quality_root_mean_squared_error: 0.5208 - wine_type_accuracy: 0.9973 - val_loss: 0.3852 - val_wine_quality_loss: 0.3459 - val_wine_type_loss: 0.0392 - val_wine_quality_root_mean_squared_error: 0.5882 - val_wine_type_accuracy: 0.9937\n",
      "Epoch 95/180\n",
      "99/99 [==============================] - 0s 3ms/step - loss: 0.2870 - wine_quality_loss: 0.2663 - wine_type_loss: 0.0207 - wine_quality_root_mean_squared_error: 0.5159 - wine_type_accuracy: 0.9969 - val_loss: 0.3849 - val_wine_quality_loss: 0.3457 - val_wine_type_loss: 0.0392 - val_wine_quality_root_mean_squared_error: 0.5879 - val_wine_type_accuracy: 0.9937\n",
      "Epoch 96/180\n",
      "99/99 [==============================] - 0s 2ms/step - loss: 0.2911 - wine_quality_loss: 0.2747 - wine_type_loss: 0.0163 - wine_quality_root_mean_squared_error: 0.5241 - wine_type_accuracy: 0.9965 - val_loss: 0.3828 - val_wine_quality_loss: 0.3437 - val_wine_type_loss: 0.0391 - val_wine_quality_root_mean_squared_error: 0.5862 - val_wine_type_accuracy: 0.9937\n",
      "Epoch 97/180\n",
      "99/99 [==============================] - 0s 2ms/step - loss: 0.2878 - wine_quality_loss: 0.2657 - wine_type_loss: 0.0221 - wine_quality_root_mean_squared_error: 0.5154 - wine_type_accuracy: 0.9954 - val_loss: 0.3771 - val_wine_quality_loss: 0.3382 - val_wine_type_loss: 0.0390 - val_wine_quality_root_mean_squared_error: 0.5815 - val_wine_type_accuracy: 0.9937\n",
      "Epoch 98/180\n",
      "99/99 [==============================] - 0s 2ms/step - loss: 0.2961 - wine_quality_loss: 0.2714 - wine_type_loss: 0.0247 - wine_quality_root_mean_squared_error: 0.5209 - wine_type_accuracy: 0.9954 - val_loss: 0.3764 - val_wine_quality_loss: 0.3374 - val_wine_type_loss: 0.0389 - val_wine_quality_root_mean_squared_error: 0.5809 - val_wine_type_accuracy: 0.9937\n",
      "Epoch 99/180\n",
      "99/99 [==============================] - 0s 2ms/step - loss: 0.2856 - wine_quality_loss: 0.2687 - wine_type_loss: 0.0169 - wine_quality_root_mean_squared_error: 0.5183 - wine_type_accuracy: 0.9969 - val_loss: 0.3782 - val_wine_quality_loss: 0.3394 - val_wine_type_loss: 0.0388 - val_wine_quality_root_mean_squared_error: 0.5826 - val_wine_type_accuracy: 0.9937\n",
      "Epoch 100/180\n",
      "99/99 [==============================] - 0s 2ms/step - loss: 0.2894 - wine_quality_loss: 0.2655 - wine_type_loss: 0.0239 - wine_quality_root_mean_squared_error: 0.5153 - wine_type_accuracy: 0.9952 - val_loss: 0.3764 - val_wine_quality_loss: 0.3376 - val_wine_type_loss: 0.0388 - val_wine_quality_root_mean_squared_error: 0.5811 - val_wine_type_accuracy: 0.9937\n",
      "Epoch 101/180\n",
      "99/99 [==============================] - 0s 2ms/step - loss: 0.3045 - wine_quality_loss: 0.2721 - wine_type_loss: 0.0324 - wine_quality_root_mean_squared_error: 0.5215 - wine_type_accuracy: 0.9958 - val_loss: 0.3785 - val_wine_quality_loss: 0.3398 - val_wine_type_loss: 0.0387 - val_wine_quality_root_mean_squared_error: 0.5829 - val_wine_type_accuracy: 0.9937\n",
      "Epoch 102/180\n",
      "99/99 [==============================] - 0s 2ms/step - loss: 0.2857 - wine_quality_loss: 0.2621 - wine_type_loss: 0.0236 - wine_quality_root_mean_squared_error: 0.5117 - wine_type_accuracy: 0.9948 - val_loss: 0.3827 - val_wine_quality_loss: 0.3442 - val_wine_type_loss: 0.0385 - val_wine_quality_root_mean_squared_error: 0.5867 - val_wine_type_accuracy: 0.9937\n",
      "Epoch 103/180\n",
      "99/99 [==============================] - 0s 2ms/step - loss: 0.2818 - wine_quality_loss: 0.2697 - wine_type_loss: 0.0121 - wine_quality_root_mean_squared_error: 0.5192 - wine_type_accuracy: 0.9974 - val_loss: 0.3796 - val_wine_quality_loss: 0.3411 - val_wine_type_loss: 0.0385 - val_wine_quality_root_mean_squared_error: 0.5840 - val_wine_type_accuracy: 0.9937\n",
      "Epoch 104/180\n",
      "99/99 [==============================] - 0s 2ms/step - loss: 0.2798 - wine_quality_loss: 0.2651 - wine_type_loss: 0.0147 - wine_quality_root_mean_squared_error: 0.5146 - wine_type_accuracy: 0.9958 - val_loss: 0.3811 - val_wine_quality_loss: 0.3426 - val_wine_type_loss: 0.0385 - val_wine_quality_root_mean_squared_error: 0.5853 - val_wine_type_accuracy: 0.9937\n",
      "Epoch 105/180\n",
      "99/99 [==============================] - 0s 3ms/step - loss: 0.2828 - wine_quality_loss: 0.2659 - wine_type_loss: 0.0169 - wine_quality_root_mean_squared_error: 0.5155 - wine_type_accuracy: 0.9960 - val_loss: 0.3793 - val_wine_quality_loss: 0.3409 - val_wine_type_loss: 0.0383 - val_wine_quality_root_mean_squared_error: 0.5839 - val_wine_type_accuracy: 0.9937\n",
      "Epoch 106/180\n",
      "99/99 [==============================] - 0s 3ms/step - loss: 0.2832 - wine_quality_loss: 0.2626 - wine_type_loss: 0.0206 - wine_quality_root_mean_squared_error: 0.5124 - wine_type_accuracy: 0.9941 - val_loss: 0.3803 - val_wine_quality_loss: 0.3420 - val_wine_type_loss: 0.0383 - val_wine_quality_root_mean_squared_error: 0.5848 - val_wine_type_accuracy: 0.9937\n",
      "Epoch 107/180\n",
      "99/99 [==============================] - 0s 2ms/step - loss: 0.2821 - wine_quality_loss: 0.2593 - wine_type_loss: 0.0228 - wine_quality_root_mean_squared_error: 0.5092 - wine_type_accuracy: 0.9952 - val_loss: 0.3790 - val_wine_quality_loss: 0.3408 - val_wine_type_loss: 0.0382 - val_wine_quality_root_mean_squared_error: 0.5838 - val_wine_type_accuracy: 0.9937\n",
      "Epoch 108/180\n",
      "99/99 [==============================] - 0s 2ms/step - loss: 0.2854 - wine_quality_loss: 0.2691 - wine_type_loss: 0.0164 - wine_quality_root_mean_squared_error: 0.5186 - wine_type_accuracy: 0.9964 - val_loss: 0.3790 - val_wine_quality_loss: 0.3409 - val_wine_type_loss: 0.0381 - val_wine_quality_root_mean_squared_error: 0.5839 - val_wine_type_accuracy: 0.9937\n",
      "Epoch 109/180\n",
      "99/99 [==============================] - 0s 2ms/step - loss: 0.2697 - wine_quality_loss: 0.2559 - wine_type_loss: 0.0138 - wine_quality_root_mean_squared_error: 0.5058 - wine_type_accuracy: 0.9970 - val_loss: 0.3789 - val_wine_quality_loss: 0.3408 - val_wine_type_loss: 0.0381 - val_wine_quality_root_mean_squared_error: 0.5838 - val_wine_type_accuracy: 0.9937\n",
      "Epoch 110/180\n",
      "99/99 [==============================] - 0s 2ms/step - loss: 0.2846 - wine_quality_loss: 0.2585 - wine_type_loss: 0.0261 - wine_quality_root_mean_squared_error: 0.5081 - wine_type_accuracy: 0.9951 - val_loss: 0.3752 - val_wine_quality_loss: 0.3371 - val_wine_type_loss: 0.0381 - val_wine_quality_root_mean_squared_error: 0.5806 - val_wine_type_accuracy: 0.9937\n"
     ]
    },
    {
     "name": "stdout",
     "output_type": "stream",
     "text": [
      "Epoch 111/180\n",
      "99/99 [==============================] - 0s 2ms/step - loss: 0.2853 - wine_quality_loss: 0.2633 - wine_type_loss: 0.0220 - wine_quality_root_mean_squared_error: 0.5131 - wine_type_accuracy: 0.9961 - val_loss: 0.3831 - val_wine_quality_loss: 0.3451 - val_wine_type_loss: 0.0380 - val_wine_quality_root_mean_squared_error: 0.5875 - val_wine_type_accuracy: 0.9937\n",
      "Epoch 112/180\n",
      "99/99 [==============================] - 0s 2ms/step - loss: 0.2819 - wine_quality_loss: 0.2634 - wine_type_loss: 0.0186 - wine_quality_root_mean_squared_error: 0.5132 - wine_type_accuracy: 0.9965 - val_loss: 0.3832 - val_wine_quality_loss: 0.3454 - val_wine_type_loss: 0.0378 - val_wine_quality_root_mean_squared_error: 0.5877 - val_wine_type_accuracy: 0.9937\n",
      "Epoch 113/180\n",
      "99/99 [==============================] - 0s 2ms/step - loss: 0.2890 - wine_quality_loss: 0.2672 - wine_type_loss: 0.0219 - wine_quality_root_mean_squared_error: 0.5166 - wine_type_accuracy: 0.9949 - val_loss: 0.3787 - val_wine_quality_loss: 0.3409 - val_wine_type_loss: 0.0378 - val_wine_quality_root_mean_squared_error: 0.5839 - val_wine_type_accuracy: 0.9937\n",
      "Epoch 114/180\n",
      "99/99 [==============================] - 0s 2ms/step - loss: 0.2800 - wine_quality_loss: 0.2653 - wine_type_loss: 0.0146 - wine_quality_root_mean_squared_error: 0.5150 - wine_type_accuracy: 0.9964 - val_loss: 0.3857 - val_wine_quality_loss: 0.3480 - val_wine_type_loss: 0.0377 - val_wine_quality_root_mean_squared_error: 0.5899 - val_wine_type_accuracy: 0.9937\n",
      "Epoch 115/180\n",
      "99/99 [==============================] - 0s 2ms/step - loss: 0.2803 - wine_quality_loss: 0.2545 - wine_type_loss: 0.0258 - wine_quality_root_mean_squared_error: 0.5044 - wine_type_accuracy: 0.9946 - val_loss: 0.3750 - val_wine_quality_loss: 0.3372 - val_wine_type_loss: 0.0378 - val_wine_quality_root_mean_squared_error: 0.5807 - val_wine_type_accuracy: 0.9949\n",
      "Epoch 116/180\n",
      "99/99 [==============================] - 0s 2ms/step - loss: 0.2880 - wine_quality_loss: 0.2618 - wine_type_loss: 0.0262 - wine_quality_root_mean_squared_error: 0.5116 - wine_type_accuracy: 0.9939 - val_loss: 0.3776 - val_wine_quality_loss: 0.3399 - val_wine_type_loss: 0.0377 - val_wine_quality_root_mean_squared_error: 0.5830 - val_wine_type_accuracy: 0.9937\n",
      "Epoch 117/180\n",
      "99/99 [==============================] - 0s 2ms/step - loss: 0.2834 - wine_quality_loss: 0.2710 - wine_type_loss: 0.0124 - wine_quality_root_mean_squared_error: 0.5205 - wine_type_accuracy: 0.9975 - val_loss: 0.3776 - val_wine_quality_loss: 0.3399 - val_wine_type_loss: 0.0376 - val_wine_quality_root_mean_squared_error: 0.5831 - val_wine_type_accuracy: 0.9949\n",
      "Epoch 118/180\n",
      "99/99 [==============================] - 0s 2ms/step - loss: 0.2955 - wine_quality_loss: 0.2705 - wine_type_loss: 0.0250 - wine_quality_root_mean_squared_error: 0.5200 - wine_type_accuracy: 0.9960 - val_loss: 0.3778 - val_wine_quality_loss: 0.3402 - val_wine_type_loss: 0.0376 - val_wine_quality_root_mean_squared_error: 0.5832 - val_wine_type_accuracy: 0.9949\n",
      "Epoch 119/180\n",
      "99/99 [==============================] - 0s 2ms/step - loss: 0.2755 - wine_quality_loss: 0.2584 - wine_type_loss: 0.0171 - wine_quality_root_mean_squared_error: 0.5082 - wine_type_accuracy: 0.9963 - val_loss: 0.3784 - val_wine_quality_loss: 0.3409 - val_wine_type_loss: 0.0375 - val_wine_quality_root_mean_squared_error: 0.5839 - val_wine_type_accuracy: 0.9937\n",
      "Epoch 120/180\n",
      "99/99 [==============================] - 0s 2ms/step - loss: 0.2784 - wine_quality_loss: 0.2581 - wine_type_loss: 0.0203 - wine_quality_root_mean_squared_error: 0.5080 - wine_type_accuracy: 0.9962 - val_loss: 0.3780 - val_wine_quality_loss: 0.3405 - val_wine_type_loss: 0.0375 - val_wine_quality_root_mean_squared_error: 0.5835 - val_wine_type_accuracy: 0.9937\n",
      "Epoch 121/180\n",
      "99/99 [==============================] - 0s 2ms/step - loss: 0.2776 - wine_quality_loss: 0.2551 - wine_type_loss: 0.0226 - wine_quality_root_mean_squared_error: 0.5050 - wine_type_accuracy: 0.9959 - val_loss: 0.3805 - val_wine_quality_loss: 0.3431 - val_wine_type_loss: 0.0374 - val_wine_quality_root_mean_squared_error: 0.5857 - val_wine_type_accuracy: 0.9949\n",
      "Epoch 122/180\n",
      "99/99 [==============================] - 0s 3ms/step - loss: 0.2762 - wine_quality_loss: 0.2546 - wine_type_loss: 0.0216 - wine_quality_root_mean_squared_error: 0.5045 - wine_type_accuracy: 0.9948 - val_loss: 0.3800 - val_wine_quality_loss: 0.3426 - val_wine_type_loss: 0.0374 - val_wine_quality_root_mean_squared_error: 0.5853 - val_wine_type_accuracy: 0.9949\n",
      "Epoch 123/180\n",
      "99/99 [==============================] - 0s 3ms/step - loss: 0.2759 - wine_quality_loss: 0.2569 - wine_type_loss: 0.0189 - wine_quality_root_mean_squared_error: 0.5068 - wine_type_accuracy: 0.9950 - val_loss: 0.3774 - val_wine_quality_loss: 0.3399 - val_wine_type_loss: 0.0375 - val_wine_quality_root_mean_squared_error: 0.5830 - val_wine_type_accuracy: 0.9949\n",
      "Epoch 124/180\n",
      "99/99 [==============================] - 0s 3ms/step - loss: 0.2851 - wine_quality_loss: 0.2678 - wine_type_loss: 0.0173 - wine_quality_root_mean_squared_error: 0.5174 - wine_type_accuracy: 0.9959 - val_loss: 0.3749 - val_wine_quality_loss: 0.3374 - val_wine_type_loss: 0.0375 - val_wine_quality_root_mean_squared_error: 0.5809 - val_wine_type_accuracy: 0.9949\n",
      "Epoch 125/180\n",
      "99/99 [==============================] - 0s 2ms/step - loss: 0.2861 - wine_quality_loss: 0.2705 - wine_type_loss: 0.0156 - wine_quality_root_mean_squared_error: 0.5199 - wine_type_accuracy: 0.9965 - val_loss: 0.3767 - val_wine_quality_loss: 0.3394 - val_wine_type_loss: 0.0373 - val_wine_quality_root_mean_squared_error: 0.5826 - val_wine_type_accuracy: 0.9949\n",
      "Epoch 126/180\n",
      "99/99 [==============================] - 0s 2ms/step - loss: 0.2790 - wine_quality_loss: 0.2570 - wine_type_loss: 0.0220 - wine_quality_root_mean_squared_error: 0.5069 - wine_type_accuracy: 0.9943 - val_loss: 0.3766 - val_wine_quality_loss: 0.3392 - val_wine_type_loss: 0.0373 - val_wine_quality_root_mean_squared_error: 0.5824 - val_wine_type_accuracy: 0.9949\n",
      "Epoch 127/180\n",
      "99/99 [==============================] - 0s 2ms/step - loss: 0.2718 - wine_quality_loss: 0.2579 - wine_type_loss: 0.0140 - wine_quality_root_mean_squared_error: 0.5077 - wine_type_accuracy: 0.9975 - val_loss: 0.3740 - val_wine_quality_loss: 0.3367 - val_wine_type_loss: 0.0373 - val_wine_quality_root_mean_squared_error: 0.5802 - val_wine_type_accuracy: 0.9949\n",
      "Epoch 128/180\n",
      "99/99 [==============================] - 0s 2ms/step - loss: 0.2878 - wine_quality_loss: 0.2693 - wine_type_loss: 0.0186 - wine_quality_root_mean_squared_error: 0.5188 - wine_type_accuracy: 0.9958 - val_loss: 0.3806 - val_wine_quality_loss: 0.3433 - val_wine_type_loss: 0.0373 - val_wine_quality_root_mean_squared_error: 0.5859 - val_wine_type_accuracy: 0.9949\n",
      "Epoch 129/180\n",
      "99/99 [==============================] - 0s 2ms/step - loss: 0.2805 - wine_quality_loss: 0.2628 - wine_type_loss: 0.0177 - wine_quality_root_mean_squared_error: 0.5126 - wine_type_accuracy: 0.9960 - val_loss: 0.3761 - val_wine_quality_loss: 0.3389 - val_wine_type_loss: 0.0372 - val_wine_quality_root_mean_squared_error: 0.5821 - val_wine_type_accuracy: 0.9949\n",
      "Epoch 130/180\n",
      "99/99 [==============================] - 0s 2ms/step - loss: 0.2858 - wine_quality_loss: 0.2615 - wine_type_loss: 0.0243 - wine_quality_root_mean_squared_error: 0.5112 - wine_type_accuracy: 0.9947 - val_loss: 0.3757 - val_wine_quality_loss: 0.3386 - val_wine_type_loss: 0.0371 - val_wine_quality_root_mean_squared_error: 0.5819 - val_wine_type_accuracy: 0.9949\n",
      "Epoch 131/180\n",
      "99/99 [==============================] - 0s 3ms/step - loss: 0.2769 - wine_quality_loss: 0.2519 - wine_type_loss: 0.0249 - wine_quality_root_mean_squared_error: 0.5019 - wine_type_accuracy: 0.9948 - val_loss: 0.3768 - val_wine_quality_loss: 0.3396 - val_wine_type_loss: 0.0372 - val_wine_quality_root_mean_squared_error: 0.5828 - val_wine_type_accuracy: 0.9949\n",
      "Epoch 132/180\n",
      "99/99 [==============================] - 0s 3ms/step - loss: 0.2668 - wine_quality_loss: 0.2551 - wine_type_loss: 0.0118 - wine_quality_root_mean_squared_error: 0.5048 - wine_type_accuracy: 0.9973 - val_loss: 0.3816 - val_wine_quality_loss: 0.3445 - val_wine_type_loss: 0.0371 - val_wine_quality_root_mean_squared_error: 0.5870 - val_wine_type_accuracy: 0.9949\n"
     ]
    },
    {
     "name": "stdout",
     "output_type": "stream",
     "text": [
      "Epoch 133/180\n",
      "99/99 [==============================] - 0s 2ms/step - loss: 0.2667 - wine_quality_loss: 0.2531 - wine_type_loss: 0.0136 - wine_quality_root_mean_squared_error: 0.5031 - wine_type_accuracy: 0.9970 - val_loss: 0.3798 - val_wine_quality_loss: 0.3428 - val_wine_type_loss: 0.0370 - val_wine_quality_root_mean_squared_error: 0.5855 - val_wine_type_accuracy: 0.9949\n",
      "Epoch 134/180\n",
      "99/99 [==============================] - 0s 2ms/step - loss: 0.2742 - wine_quality_loss: 0.2632 - wine_type_loss: 0.0110 - wine_quality_root_mean_squared_error: 0.5129 - wine_type_accuracy: 0.9967 - val_loss: 0.3756 - val_wine_quality_loss: 0.3386 - val_wine_type_loss: 0.0370 - val_wine_quality_root_mean_squared_error: 0.5819 - val_wine_type_accuracy: 0.9949\n",
      "Epoch 135/180\n",
      "99/99 [==============================] - 0s 2ms/step - loss: 0.2645 - wine_quality_loss: 0.2499 - wine_type_loss: 0.0146 - wine_quality_root_mean_squared_error: 0.4998 - wine_type_accuracy: 0.9973 - val_loss: 0.3777 - val_wine_quality_loss: 0.3408 - val_wine_type_loss: 0.0369 - val_wine_quality_root_mean_squared_error: 0.5838 - val_wine_type_accuracy: 0.9949\n",
      "Epoch 136/180\n",
      "99/99 [==============================] - 0s 2ms/step - loss: 0.2807 - wine_quality_loss: 0.2572 - wine_type_loss: 0.0235 - wine_quality_root_mean_squared_error: 0.5070 - wine_type_accuracy: 0.9949 - val_loss: 0.3841 - val_wine_quality_loss: 0.3472 - val_wine_type_loss: 0.0369 - val_wine_quality_root_mean_squared_error: 0.5893 - val_wine_type_accuracy: 0.9949\n",
      "Epoch 137/180\n",
      "99/99 [==============================] - 0s 2ms/step - loss: 0.2739 - wine_quality_loss: 0.2572 - wine_type_loss: 0.0167 - wine_quality_root_mean_squared_error: 0.5070 - wine_type_accuracy: 0.9963 - val_loss: 0.3806 - val_wine_quality_loss: 0.3439 - val_wine_type_loss: 0.0368 - val_wine_quality_root_mean_squared_error: 0.5864 - val_wine_type_accuracy: 0.9949\n",
      "Epoch 138/180\n",
      "99/99 [==============================] - 0s 2ms/step - loss: 0.2747 - wine_quality_loss: 0.2582 - wine_type_loss: 0.0164 - wine_quality_root_mean_squared_error: 0.5081 - wine_type_accuracy: 0.9969 - val_loss: 0.3882 - val_wine_quality_loss: 0.3514 - val_wine_type_loss: 0.0367 - val_wine_quality_root_mean_squared_error: 0.5928 - val_wine_type_accuracy: 0.9949\n",
      "Epoch 139/180\n",
      "99/99 [==============================] - 0s 2ms/step - loss: 0.2668 - wine_quality_loss: 0.2531 - wine_type_loss: 0.0137 - wine_quality_root_mean_squared_error: 0.5030 - wine_type_accuracy: 0.9960 - val_loss: 0.3769 - val_wine_quality_loss: 0.3401 - val_wine_type_loss: 0.0367 - val_wine_quality_root_mean_squared_error: 0.5832 - val_wine_type_accuracy: 0.9949\n",
      "Epoch 140/180\n",
      "99/99 [==============================] - 0s 3ms/step - loss: 0.2778 - wine_quality_loss: 0.2567 - wine_type_loss: 0.0211 - wine_quality_root_mean_squared_error: 0.5066 - wine_type_accuracy: 0.9954 - val_loss: 0.3761 - val_wine_quality_loss: 0.3395 - val_wine_type_loss: 0.0366 - val_wine_quality_root_mean_squared_error: 0.5826 - val_wine_type_accuracy: 0.9949\n",
      "Epoch 141/180\n",
      "99/99 [==============================] - 0s 2ms/step - loss: 0.2673 - wine_quality_loss: 0.2526 - wine_type_loss: 0.0147 - wine_quality_root_mean_squared_error: 0.5024 - wine_type_accuracy: 0.9970 - val_loss: 0.3758 - val_wine_quality_loss: 0.3391 - val_wine_type_loss: 0.0368 - val_wine_quality_root_mean_squared_error: 0.5823 - val_wine_type_accuracy: 0.9949\n",
      "Epoch 142/180\n",
      "99/99 [==============================] - 0s 3ms/step - loss: 0.2580 - wine_quality_loss: 0.2418 - wine_type_loss: 0.0162 - wine_quality_root_mean_squared_error: 0.4914 - wine_type_accuracy: 0.9964 - val_loss: 0.3772 - val_wine_quality_loss: 0.3405 - val_wine_type_loss: 0.0367 - val_wine_quality_root_mean_squared_error: 0.5835 - val_wine_type_accuracy: 0.9949\n",
      "Epoch 143/180\n",
      "99/99 [==============================] - 0s 2ms/step - loss: 0.2622 - wine_quality_loss: 0.2492 - wine_type_loss: 0.0130 - wine_quality_root_mean_squared_error: 0.4990 - wine_type_accuracy: 0.9969 - val_loss: 0.3769 - val_wine_quality_loss: 0.3404 - val_wine_type_loss: 0.0365 - val_wine_quality_root_mean_squared_error: 0.5834 - val_wine_type_accuracy: 0.9949\n",
      "Epoch 144/180\n",
      "99/99 [==============================] - 0s 2ms/step - loss: 0.2764 - wine_quality_loss: 0.2580 - wine_type_loss: 0.0184 - wine_quality_root_mean_squared_error: 0.5079 - wine_type_accuracy: 0.9966 - val_loss: 0.3813 - val_wine_quality_loss: 0.3447 - val_wine_type_loss: 0.0365 - val_wine_quality_root_mean_squared_error: 0.5871 - val_wine_type_accuracy: 0.9949\n",
      "Epoch 145/180\n",
      "99/99 [==============================] - 0s 2ms/step - loss: 0.2665 - wine_quality_loss: 0.2488 - wine_type_loss: 0.0176 - wine_quality_root_mean_squared_error: 0.4988 - wine_type_accuracy: 0.9963 - val_loss: 0.3761 - val_wine_quality_loss: 0.3396 - val_wine_type_loss: 0.0365 - val_wine_quality_root_mean_squared_error: 0.5828 - val_wine_type_accuracy: 0.9949\n",
      "Epoch 146/180\n",
      "99/99 [==============================] - 0s 3ms/step - loss: 0.2574 - wine_quality_loss: 0.2482 - wine_type_loss: 0.0092 - wine_quality_root_mean_squared_error: 0.4981 - wine_type_accuracy: 0.9973 - val_loss: 0.3771 - val_wine_quality_loss: 0.3406 - val_wine_type_loss: 0.0365 - val_wine_quality_root_mean_squared_error: 0.5836 - val_wine_type_accuracy: 0.9949\n",
      "Epoch 147/180\n",
      "99/99 [==============================] - 0s 2ms/step - loss: 0.2659 - wine_quality_loss: 0.2538 - wine_type_loss: 0.0121 - wine_quality_root_mean_squared_error: 0.5037 - wine_type_accuracy: 0.9980 - val_loss: 0.3794 - val_wine_quality_loss: 0.3429 - val_wine_type_loss: 0.0365 - val_wine_quality_root_mean_squared_error: 0.5856 - val_wine_type_accuracy: 0.9949\n",
      "Epoch 148/180\n",
      "99/99 [==============================] - 0s 2ms/step - loss: 0.2671 - wine_quality_loss: 0.2519 - wine_type_loss: 0.0151 - wine_quality_root_mean_squared_error: 0.5019 - wine_type_accuracy: 0.9967 - val_loss: 0.3790 - val_wine_quality_loss: 0.3425 - val_wine_type_loss: 0.0365 - val_wine_quality_root_mean_squared_error: 0.5852 - val_wine_type_accuracy: 0.9949\n",
      "Epoch 149/180\n",
      "99/99 [==============================] - 0s 2ms/step - loss: 0.2506 - wine_quality_loss: 0.2394 - wine_type_loss: 0.0113 - wine_quality_root_mean_squared_error: 0.4889 - wine_type_accuracy: 0.9977 - val_loss: 0.3754 - val_wine_quality_loss: 0.3390 - val_wine_type_loss: 0.0364 - val_wine_quality_root_mean_squared_error: 0.5822 - val_wine_type_accuracy: 0.9949\n",
      "Epoch 150/180\n",
      "99/99 [==============================] - 0s 2ms/step - loss: 0.2716 - wine_quality_loss: 0.2550 - wine_type_loss: 0.0165 - wine_quality_root_mean_squared_error: 0.5049 - wine_type_accuracy: 0.9958 - val_loss: 0.3810 - val_wine_quality_loss: 0.3446 - val_wine_type_loss: 0.0364 - val_wine_quality_root_mean_squared_error: 0.5870 - val_wine_type_accuracy: 0.9949\n",
      "Epoch 151/180\n",
      "99/99 [==============================] - 0s 2ms/step - loss: 0.2632 - wine_quality_loss: 0.2506 - wine_type_loss: 0.0125 - wine_quality_root_mean_squared_error: 0.5006 - wine_type_accuracy: 0.9975 - val_loss: 0.3796 - val_wine_quality_loss: 0.3432 - val_wine_type_loss: 0.0364 - val_wine_quality_root_mean_squared_error: 0.5858 - val_wine_type_accuracy: 0.9949\n",
      "Epoch 152/180\n",
      "99/99 [==============================] - 0s 2ms/step - loss: 0.2642 - wine_quality_loss: 0.2452 - wine_type_loss: 0.0190 - wine_quality_root_mean_squared_error: 0.4951 - wine_type_accuracy: 0.9963 - val_loss: 0.3772 - val_wine_quality_loss: 0.3409 - val_wine_type_loss: 0.0363 - val_wine_quality_root_mean_squared_error: 0.5838 - val_wine_type_accuracy: 0.9949\n",
      "Epoch 153/180\n",
      "99/99 [==============================] - 0s 3ms/step - loss: 0.2613 - wine_quality_loss: 0.2528 - wine_type_loss: 0.0084 - wine_quality_root_mean_squared_error: 0.5028 - wine_type_accuracy: 0.9982 - val_loss: 0.3808 - val_wine_quality_loss: 0.3446 - val_wine_type_loss: 0.0362 - val_wine_quality_root_mean_squared_error: 0.5870 - val_wine_type_accuracy: 0.9949\n",
      "Epoch 154/180\n",
      "99/99 [==============================] - 0s 2ms/step - loss: 0.2637 - wine_quality_loss: 0.2452 - wine_type_loss: 0.0185 - wine_quality_root_mean_squared_error: 0.4951 - wine_type_accuracy: 0.9956 - val_loss: 0.3781 - val_wine_quality_loss: 0.3419 - val_wine_type_loss: 0.0362 - val_wine_quality_root_mean_squared_error: 0.5848 - val_wine_type_accuracy: 0.9949\n"
     ]
    },
    {
     "name": "stdout",
     "output_type": "stream",
     "text": [
      "Epoch 155/180\n",
      "99/99 [==============================] - 0s 2ms/step - loss: 0.2581 - wine_quality_loss: 0.2495 - wine_type_loss: 0.0086 - wine_quality_root_mean_squared_error: 0.4995 - wine_type_accuracy: 0.9979 - val_loss: 0.3760 - val_wine_quality_loss: 0.3398 - val_wine_type_loss: 0.0362 - val_wine_quality_root_mean_squared_error: 0.5829 - val_wine_type_accuracy: 0.9949\n",
      "Epoch 156/180\n",
      "99/99 [==============================] - 0s 2ms/step - loss: 0.2571 - wine_quality_loss: 0.2468 - wine_type_loss: 0.0103 - wine_quality_root_mean_squared_error: 0.4967 - wine_type_accuracy: 0.9977 - val_loss: 0.3831 - val_wine_quality_loss: 0.3471 - val_wine_type_loss: 0.0360 - val_wine_quality_root_mean_squared_error: 0.5891 - val_wine_type_accuracy: 0.9949\n",
      "Epoch 157/180\n",
      "99/99 [==============================] - 0s 2ms/step - loss: 0.2565 - wine_quality_loss: 0.2400 - wine_type_loss: 0.0165 - wine_quality_root_mean_squared_error: 0.4898 - wine_type_accuracy: 0.9967 - val_loss: 0.3761 - val_wine_quality_loss: 0.3400 - val_wine_type_loss: 0.0361 - val_wine_quality_root_mean_squared_error: 0.5831 - val_wine_type_accuracy: 0.9949\n",
      "Epoch 158/180\n",
      "99/99 [==============================] - 0s 2ms/step - loss: 0.2523 - wine_quality_loss: 0.2379 - wine_type_loss: 0.0145 - wine_quality_root_mean_squared_error: 0.4875 - wine_type_accuracy: 0.9964 - val_loss: 0.3768 - val_wine_quality_loss: 0.3408 - val_wine_type_loss: 0.0360 - val_wine_quality_root_mean_squared_error: 0.5838 - val_wine_type_accuracy: 0.9949\n",
      "Epoch 159/180\n",
      "99/99 [==============================] - 0s 2ms/step - loss: 0.2694 - wine_quality_loss: 0.2531 - wine_type_loss: 0.0163 - wine_quality_root_mean_squared_error: 0.5030 - wine_type_accuracy: 0.9966 - val_loss: 0.3829 - val_wine_quality_loss: 0.3469 - val_wine_type_loss: 0.0360 - val_wine_quality_root_mean_squared_error: 0.5890 - val_wine_type_accuracy: 0.9949\n",
      "Epoch 160/180\n",
      "99/99 [==============================] - 0s 2ms/step - loss: 0.2467 - wine_quality_loss: 0.2375 - wine_type_loss: 0.0091 - wine_quality_root_mean_squared_error: 0.4872 - wine_type_accuracy: 0.9976 - val_loss: 0.3778 - val_wine_quality_loss: 0.3418 - val_wine_type_loss: 0.0360 - val_wine_quality_root_mean_squared_error: 0.5847 - val_wine_type_accuracy: 0.9949\n",
      "Epoch 161/180\n",
      "99/99 [==============================] - 0s 3ms/step - loss: 0.2534 - wine_quality_loss: 0.2352 - wine_type_loss: 0.0181 - wine_quality_root_mean_squared_error: 0.4845 - wine_type_accuracy: 0.9966 - val_loss: 0.3771 - val_wine_quality_loss: 0.3412 - val_wine_type_loss: 0.0359 - val_wine_quality_root_mean_squared_error: 0.5841 - val_wine_type_accuracy: 0.9949\n",
      "Epoch 162/180\n",
      "99/99 [==============================] - 0s 2ms/step - loss: 0.2544 - wine_quality_loss: 0.2453 - wine_type_loss: 0.0091 - wine_quality_root_mean_squared_error: 0.4951 - wine_type_accuracy: 0.9973 - val_loss: 0.3810 - val_wine_quality_loss: 0.3450 - val_wine_type_loss: 0.0359 - val_wine_quality_root_mean_squared_error: 0.5874 - val_wine_type_accuracy: 0.9949\n",
      "Epoch 163/180\n",
      "99/99 [==============================] - 0s 2ms/step - loss: 0.2567 - wine_quality_loss: 0.2462 - wine_type_loss: 0.0105 - wine_quality_root_mean_squared_error: 0.4961 - wine_type_accuracy: 0.9969 - val_loss: 0.3802 - val_wine_quality_loss: 0.3444 - val_wine_type_loss: 0.0359 - val_wine_quality_root_mean_squared_error: 0.5868 - val_wine_type_accuracy: 0.9949\n",
      "Epoch 164/180\n",
      "99/99 [==============================] - 0s 2ms/step - loss: 0.2570 - wine_quality_loss: 0.2448 - wine_type_loss: 0.0123 - wine_quality_root_mean_squared_error: 0.4947 - wine_type_accuracy: 0.9963 - val_loss: 0.3797 - val_wine_quality_loss: 0.3437 - val_wine_type_loss: 0.0360 - val_wine_quality_root_mean_squared_error: 0.5862 - val_wine_type_accuracy: 0.9949\n",
      "Epoch 165/180\n",
      "99/99 [==============================] - 0s 2ms/step - loss: 0.2545 - wine_quality_loss: 0.2453 - wine_type_loss: 0.0092 - wine_quality_root_mean_squared_error: 0.4952 - wine_type_accuracy: 0.9969 - val_loss: 0.3760 - val_wine_quality_loss: 0.3400 - val_wine_type_loss: 0.0360 - val_wine_quality_root_mean_squared_error: 0.5831 - val_wine_type_accuracy: 0.9949\n",
      "Epoch 166/180\n",
      "99/99 [==============================] - 0s 3ms/step - loss: 0.2642 - wine_quality_loss: 0.2440 - wine_type_loss: 0.0201 - wine_quality_root_mean_squared_error: 0.4939 - wine_type_accuracy: 0.9957 - val_loss: 0.3748 - val_wine_quality_loss: 0.3389 - val_wine_type_loss: 0.0360 - val_wine_quality_root_mean_squared_error: 0.5821 - val_wine_type_accuracy: 0.9949\n",
      "Epoch 167/180\n",
      "99/99 [==============================] - 0s 2ms/step - loss: 0.2472 - wine_quality_loss: 0.2388 - wine_type_loss: 0.0085 - wine_quality_root_mean_squared_error: 0.4884 - wine_type_accuracy: 0.9979 - val_loss: 0.3789 - val_wine_quality_loss: 0.3428 - val_wine_type_loss: 0.0361 - val_wine_quality_root_mean_squared_error: 0.5855 - val_wine_type_accuracy: 0.9949\n",
      "Epoch 168/180\n",
      "99/99 [==============================] - 0s 2ms/step - loss: 0.2613 - wine_quality_loss: 0.2449 - wine_type_loss: 0.0164 - wine_quality_root_mean_squared_error: 0.4947 - wine_type_accuracy: 0.9967 - val_loss: 0.3766 - val_wine_quality_loss: 0.3407 - val_wine_type_loss: 0.0359 - val_wine_quality_root_mean_squared_error: 0.5837 - val_wine_type_accuracy: 0.9949\n",
      "Epoch 169/180\n",
      "99/99 [==============================] - 0s 2ms/step - loss: 0.2567 - wine_quality_loss: 0.2396 - wine_type_loss: 0.0172 - wine_quality_root_mean_squared_error: 0.4891 - wine_type_accuracy: 0.9968 - val_loss: 0.3771 - val_wine_quality_loss: 0.3412 - val_wine_type_loss: 0.0359 - val_wine_quality_root_mean_squared_error: 0.5842 - val_wine_type_accuracy: 0.9949\n",
      "Epoch 170/180\n",
      "99/99 [==============================] - 0s 2ms/step - loss: 0.2497 - wine_quality_loss: 0.2371 - wine_type_loss: 0.0126 - wine_quality_root_mean_squared_error: 0.4868 - wine_type_accuracy: 0.9965 - val_loss: 0.3809 - val_wine_quality_loss: 0.3450 - val_wine_type_loss: 0.0359 - val_wine_quality_root_mean_squared_error: 0.5873 - val_wine_type_accuracy: 0.9949\n",
      "Epoch 171/180\n",
      "99/99 [==============================] - 0s 2ms/step - loss: 0.2541 - wine_quality_loss: 0.2401 - wine_type_loss: 0.0140 - wine_quality_root_mean_squared_error: 0.4899 - wine_type_accuracy: 0.9969 - val_loss: 0.3758 - val_wine_quality_loss: 0.3399 - val_wine_type_loss: 0.0359 - val_wine_quality_root_mean_squared_error: 0.5830 - val_wine_type_accuracy: 0.9949\n",
      "Epoch 172/180\n",
      "99/99 [==============================] - 0s 2ms/step - loss: 0.2496 - wine_quality_loss: 0.2343 - wine_type_loss: 0.0152 - wine_quality_root_mean_squared_error: 0.4840 - wine_type_accuracy: 0.9950 - val_loss: 0.3745 - val_wine_quality_loss: 0.3386 - val_wine_type_loss: 0.0359 - val_wine_quality_root_mean_squared_error: 0.5819 - val_wine_type_accuracy: 0.9949\n",
      "Epoch 173/180\n",
      "99/99 [==============================] - 0s 2ms/step - loss: 0.2446 - wine_quality_loss: 0.2335 - wine_type_loss: 0.0111 - wine_quality_root_mean_squared_error: 0.4830 - wine_type_accuracy: 0.9972 - val_loss: 0.3747 - val_wine_quality_loss: 0.3388 - val_wine_type_loss: 0.0359 - val_wine_quality_root_mean_squared_error: 0.5821 - val_wine_type_accuracy: 0.9949\n",
      "Epoch 174/180\n",
      "99/99 [==============================] - 0s 2ms/step - loss: 0.2564 - wine_quality_loss: 0.2449 - wine_type_loss: 0.0115 - wine_quality_root_mean_squared_error: 0.4948 - wine_type_accuracy: 0.9980 - val_loss: 0.3910 - val_wine_quality_loss: 0.3552 - val_wine_type_loss: 0.0358 - val_wine_quality_root_mean_squared_error: 0.5960 - val_wine_type_accuracy: 0.9949\n",
      "Epoch 175/180\n",
      "99/99 [==============================] - 0s 2ms/step - loss: 0.2437 - wine_quality_loss: 0.2338 - wine_type_loss: 0.0098 - wine_quality_root_mean_squared_error: 0.4833 - wine_type_accuracy: 0.9979 - val_loss: 0.3755 - val_wine_quality_loss: 0.3396 - val_wine_type_loss: 0.0359 - val_wine_quality_root_mean_squared_error: 0.5827 - val_wine_type_accuracy: 0.9949\n",
      "Epoch 176/180\n",
      "99/99 [==============================] - 0s 2ms/step - loss: 0.2527 - wine_quality_loss: 0.2337 - wine_type_loss: 0.0190 - wine_quality_root_mean_squared_error: 0.4831 - wine_type_accuracy: 0.9941 - val_loss: 0.3788 - val_wine_quality_loss: 0.3430 - val_wine_type_loss: 0.0358 - val_wine_quality_root_mean_squared_error: 0.5856 - val_wine_type_accuracy: 0.9949\n"
     ]
    },
    {
     "name": "stdout",
     "output_type": "stream",
     "text": [
      "Epoch 177/180\n",
      "99/99 [==============================] - 0s 2ms/step - loss: 0.2522 - wine_quality_loss: 0.2434 - wine_type_loss: 0.0088 - wine_quality_root_mean_squared_error: 0.4933 - wine_type_accuracy: 0.9981 - val_loss: 0.3777 - val_wine_quality_loss: 0.3418 - val_wine_type_loss: 0.0358 - val_wine_quality_root_mean_squared_error: 0.5847 - val_wine_type_accuracy: 0.9949\n",
      "Epoch 178/180\n",
      "99/99 [==============================] - 0s 2ms/step - loss: 0.2524 - wine_quality_loss: 0.2370 - wine_type_loss: 0.0154 - wine_quality_root_mean_squared_error: 0.4868 - wine_type_accuracy: 0.9963 - val_loss: 0.3759 - val_wine_quality_loss: 0.3401 - val_wine_type_loss: 0.0358 - val_wine_quality_root_mean_squared_error: 0.5832 - val_wine_type_accuracy: 0.9949\n",
      "Epoch 179/180\n",
      "99/99 [==============================] - 0s 2ms/step - loss: 0.2608 - wine_quality_loss: 0.2440 - wine_type_loss: 0.0168 - wine_quality_root_mean_squared_error: 0.4940 - wine_type_accuracy: 0.9960 - val_loss: 0.3810 - val_wine_quality_loss: 0.3452 - val_wine_type_loss: 0.0357 - val_wine_quality_root_mean_squared_error: 0.5876 - val_wine_type_accuracy: 0.9949\n",
      "Epoch 180/180\n",
      "99/99 [==============================] - 0s 2ms/step - loss: 0.2496 - wine_quality_loss: 0.2392 - wine_type_loss: 0.0105 - wine_quality_root_mean_squared_error: 0.4890 - wine_type_accuracy: 0.9975 - val_loss: 0.3759 - val_wine_quality_loss: 0.3401 - val_wine_type_loss: 0.0358 - val_wine_quality_root_mean_squared_error: 0.5832 - val_wine_type_accuracy: 0.9949\n"
     ]
    }
   ],
   "source": [
    "history = model.fit(norm_train_X, train_Y,\n",
    "                   epochs=180, validation_data=(norm_val_X, val_Y))"
   ]
  },
  {
   "cell_type": "code",
   "execution_count": 16,
   "metadata": {},
   "outputs": [
    {
     "name": "stdout",
     "output_type": "stream",
     "text": [
      "25/25 [==============================] - 0s 2ms/step - loss: 0.3759 - wine_quality_loss: 0.3401 - wine_type_loss: 0.0358 - wine_quality_root_mean_squared_error: 0.5832 - wine_type_accuracy: 0.9949\n",
      "\n",
      "Loss: 0.3759327530860901\n",
      "wine_quality_loss: 0.3400968909263611\n",
      "wine_type_loss: 0.03583581745624542\n",
      "wine_quality_rmse: 0.5831782817840576\n",
      "wine_quality_accuracy: 0.9949302673339844\n"
     ]
    }
   ],
   "source": [
    "#Gather training metrics\n",
    "loss, wine_quality_loss, wine_type_loss, wine_quality_rmse, wine_type_accuracy = model.evaluate(x=norm_val_X, y=val_Y)\n",
    "\n",
    "print()\n",
    "print(f'Loss: {loss}')\n",
    "print(f'wine_quality_loss: {wine_quality_loss}')\n",
    "print(f'wine_type_loss: {wine_type_loss}')\n",
    "print(f'wine_quality_rmse: {wine_quality_rmse}')\n",
    "print(f'wine_quality_accuracy: {wine_type_accuracy}')"
   ]
  },
  {
   "cell_type": "code",
   "execution_count": 17,
   "metadata": {},
   "outputs": [],
   "source": [
    "predictions = model.predict(norm_test_X)\n",
    "quality_pred = predictions[0]\n",
    "type_pred = predictions[1]"
   ]
  },
  {
   "cell_type": "code",
   "execution_count": 18,
   "metadata": {},
   "outputs": [
    {
     "name": "stdout",
     "output_type": "stream",
     "text": [
      "[6.7409983]\n"
     ]
    }
   ],
   "source": [
    "print(quality_pred[0])"
   ]
  },
  {
   "cell_type": "code",
   "execution_count": 19,
   "metadata": {},
   "outputs": [
    {
     "name": "stdout",
     "output_type": "stream",
     "text": [
      "[9.655935e-05]\n",
      "[0.00122303]\n"
     ]
    }
   ],
   "source": [
    "print(type_pred[0])\n",
    "print(type_pred[986])"
   ]
  },
  {
   "cell_type": "markdown",
   "metadata": {},
   "source": [
    "#### Plot Utilities"
   ]
  },
  {
   "cell_type": "code",
   "execution_count": 20,
   "metadata": {},
   "outputs": [],
   "source": [
    "def plot_metrics(metric_name, title, ylim=5):\n",
    "    plt.title(title)\n",
    "    plt.ylim(0, ylim)\n",
    "    plt.plot(history.history[metric_name], color='blue', label=metric_name)\n",
    "    plt.plot(history.history['val_' + metric_name], color='green', label='val_' + metric_name)"
   ]
  },
  {
   "cell_type": "code",
   "execution_count": 21,
   "metadata": {},
   "outputs": [],
   "source": [
    "def plot_confusion_matrix(y_true, y_pred, title='', labels=[0, 1]):\n",
    "    cm = confusion_matrix(y_true, y_pred)\n",
    "    fig = plt.figure()\n",
    "    ax = fig.add_subplot(111)\n",
    "    cax = ax.matshow(cm)\n",
    "    plt.title('Confusion matrix of the classifier')\n",
    "    fig.colorbar(cax)\n",
    "    ax.set_xticklabels([''] + labels)\n",
    "    ax.set_xticklabels([''] + labels)\n",
    "    plt.xlabel('Predicted')\n",
    "    plt.ylabel('True')\n",
    "    fmt = 'd'\n",
    "    thresh = cm.max() / 2\n",
    "    for i, j in itertools.product(range(cm.shape[0]), range(cm.shape[1])):\n",
    "      plt.text(j, i, format(cm[i, j], fmt),\n",
    "              horizontalalignment=\"center\",\n",
    "              color=\"black\" if cm[i, j] > thresh else \"white\")\n",
    "    plt.show()"
   ]
  },
  {
   "cell_type": "code",
   "execution_count": 22,
   "metadata": {},
   "outputs": [],
   "source": [
    "def plot_diff(y_true, y_pred, title = '' ):\n",
    "    plt.scatter(y_true, y_pred)\n",
    "    plt.title(title)\n",
    "    plt.xlabel('True Values')\n",
    "    plt.ylabel('Predictions')\n",
    "    plt.axis('equal')\n",
    "    plt.axis('square')\n",
    "    plt.plot([-100, 100], [-100, 100])\n",
    "    return plt"
   ]
  },
  {
   "cell_type": "markdown",
   "metadata": {},
   "source": [
    "#### Plots for metrics"
   ]
  },
  {
   "cell_type": "code",
   "execution_count": 23,
   "metadata": {},
   "outputs": [
    {
     "data": {
      "image/png": "[encoded data removed]",
      "text/plain": [
       "<Figure size 432x288 with 1 Axes>"
      ]
     },
     "metadata": {
      "needs_background": "light"
     },
     "output_type": "display_data"
    }
   ],
   "source": [
    "plot_metrics('wine_quality_root_mean_squared_error', 'RMSE', ylim=2)"
   ]
  },
  {
   "cell_type": "code",
   "execution_count": 24,
   "metadata": {},
   "outputs": [
    {
     "data": {
      "image/png": "[encoded data removed]",
      "text/plain": [
       "<Figure size 432x288 with 1 Axes>"
      ]
     },
     "metadata": {
      "needs_background": "light"
     },
     "output_type": "display_data"
    }
   ],
   "source": [
    "plot_metrics('wine_type_loss', 'Wine Type Loss', ylim=0.2)"
   ]
  },
  {
   "cell_type": "code",
   "execution_count": 25,
   "metadata": {},
   "outputs": [
    {
     "data": {
      "image/png": "[encoded data removed]",
      "text/plain": [
       "<Figure size 432x288 with 2 Axes>"
      ]
     },
     "metadata": {
      "needs_background": "light"
     },
     "output_type": "display_data"
    }
   ],
   "source": [
    "plot_confusion_matrix(test_Y[1], np.round(type_pred), title='Wine Type', labels = [0, 1])"
   ]
  },
  {
   "cell_type": "code",
   "execution_count": 26,
   "metadata": {},
   "outputs": [
    {
     "data": {
      "image/png": "[encoded data removed]",
      "text/plain": [
       "<Figure size 432x288 with 1 Axes>"
      ]
     },
     "metadata": {
      "needs_background": "light"
     },
     "output_type": "display_data"
    }
   ],
   "source": [
    "scatter_plot = plot_diff(test_Y[0], quality_pred, title='Type')"
   ]
  }
 ],
 "metadata": {
  "kernelspec": {
   "display_name": "technical-test",
   "language": "python",
   "name": "technical-test"
  },
  "language_info": {
   "codemirror_mode": {
    "name": "ipython",
    "version": 3
   },
   "file_extension": ".py",
   "mimetype": "text/x-python",
   "name": "python",
   "nbconvert_exporter": "python",
   "pygments_lexer": "ipython3",
   "version": "3.8.5"
  }
 },
 "nbformat": 4,
 "nbformat_minor": 4
}
